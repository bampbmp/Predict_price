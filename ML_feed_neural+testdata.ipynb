{
  "nbformat": 4,
  "nbformat_minor": 0,
  "metadata": {
    "colab": {
      "name": "ML_feed_neural+testdata.ipynb",
      "provenance": []
    },
    "kernelspec": {
      "name": "python3",
      "display_name": "Python 3"
    }
  },
  "cells": [
    {
      "cell_type": "code",
      "metadata": {
        "id": "_4vq6fMe1SkS",
        "colab_type": "code",
        "colab": {}
      },
      "source": [
        "from sklearn.metrics import mean_squared_error,mean_absolute_error\n",
        "import pandas as pd\n",
        "import numpy as np\n",
        "import matplotlib.pyplot as plt\n",
        "from sklearn.model_selection import train_test_split"
      ],
      "execution_count": 0,
      "outputs": []
    },
    {
      "cell_type": "code",
      "metadata": {
        "id": "OrAmM2DUTWQy",
        "colab_type": "code",
        "colab": {}
      },
      "source": [
        "df=pd.read_csv('cleaningtrainingdata.csv')"
      ],
      "execution_count": 0,
      "outputs": []
    },
    {
      "cell_type": "code",
      "metadata": {
        "id": "hI1yAxZgTaiQ",
        "colab_type": "code",
        "colab": {}
      },
      "source": [
        "X=df[['PrevAVGCost','PrevAssignedCost','AVGCost','LatestDateCost','A','B','C','D','E','F','G']]\n",
        "y=df['GenPrice']"
      ],
      "execution_count": 0,
      "outputs": []
    },
    {
      "cell_type": "markdown",
      "metadata": {
        "id": "1rv6bYqcTpSl",
        "colab_type": "text"
      },
      "source": [
        "#Data pre-processing"
      ]
    },
    {
      "cell_type": "code",
      "metadata": {
        "id": "MuOv30gSTleS",
        "colab_type": "code",
        "colab": {}
      },
      "source": [
        "X_train,X_test,y_train,y_test=train_test_split(X,y,test_size=0.2, random_state=888)"
      ],
      "execution_count": 0,
      "outputs": []
    },
    {
      "cell_type": "code",
      "metadata": {
        "id": "UnRdH7euOXlu",
        "colab_type": "code",
        "outputId": "2a24dd67-6622-4e72-8114-072384ede48d",
        "colab": {
          "base_uri": "https://localhost:8080/",
          "height": 35
        }
      },
      "source": [
        "print (X_train.shape, y_train.shape)"
      ],
      "execution_count": 6,
      "outputs": [
        {
          "output_type": "stream",
          "text": [
            "(19700, 11) (19700,)\n"
          ],
          "name": "stdout"
        }
      ]
    },
    {
      "cell_type": "markdown",
      "metadata": {
        "id": "kJe8gHY5TvV_",
        "colab_type": "text"
      },
      "source": [
        "#Train"
      ]
    },
    {
      "cell_type": "code",
      "metadata": {
        "id": "Nyx3rmxLTtoT",
        "colab_type": "code",
        "colab": {}
      },
      "source": [
        "from sklearn.neural_network import MLPRegressor"
      ],
      "execution_count": 0,
      "outputs": []
    },
    {
      "cell_type": "code",
      "metadata": {
        "id": "SrfIZooHUBSM",
        "colab_type": "code",
        "outputId": "ae7f624d-7774-41ab-b3e3-ed4587c91bc7",
        "colab": {
          "base_uri": "https://localhost:8080/",
          "height": 161
        }
      },
      "source": [
        "mlp =MLPRegressor (hidden_layer_sizes=(11,11,11), activation='relu', solver='adam', max_iter=500,learning_rate = 'adaptive')\n",
        "mlp.fit(X_train,y_train)\n",
        "\n",
        "\n"
      ],
      "execution_count": 8,
      "outputs": [
        {
          "output_type": "execute_result",
          "data": {
            "text/plain": [
              "MLPRegressor(activation='relu', alpha=0.0001, batch_size='auto', beta_1=0.9,\n",
              "             beta_2=0.999, early_stopping=False, epsilon=1e-08,\n",
              "             hidden_layer_sizes=(11, 11, 11), learning_rate='adaptive',\n",
              "             learning_rate_init=0.001, max_fun=15000, max_iter=500,\n",
              "             momentum=0.9, n_iter_no_change=10, nesterovs_momentum=True,\n",
              "             power_t=0.5, random_state=None, shuffle=True, solver='adam',\n",
              "             tol=0.0001, validation_fraction=0.1, verbose=False,\n",
              "             warm_start=False)"
            ]
          },
          "metadata": {
            "tags": []
          },
          "execution_count": 8
        }
      ]
    },
    {
      "cell_type": "code",
      "metadata": {
        "id": "95MZko5lb8m8",
        "colab_type": "code",
        "outputId": "733d6160-4a30-49bb-a9eb-8f1c1df6c450",
        "colab": {
          "base_uri": "https://localhost:8080/",
          "height": 202
        }
      },
      "source": [
        "train=pd.concat([X_train,y_train],axis='columns')\n",
        "train.head()\n"
      ],
      "execution_count": 9,
      "outputs": [
        {
          "output_type": "execute_result",
          "data": {
            "text/html": [
              "<div>\n",
              "<style scoped>\n",
              "    .dataframe tbody tr th:only-of-type {\n",
              "        vertical-align: middle;\n",
              "    }\n",
              "\n",
              "    .dataframe tbody tr th {\n",
              "        vertical-align: top;\n",
              "    }\n",
              "\n",
              "    .dataframe thead th {\n",
              "        text-align: right;\n",
              "    }\n",
              "</style>\n",
              "<table border=\"1\" class=\"dataframe\">\n",
              "  <thead>\n",
              "    <tr style=\"text-align: right;\">\n",
              "      <th></th>\n",
              "      <th>PrevAVGCost</th>\n",
              "      <th>PrevAssignedCost</th>\n",
              "      <th>AVGCost</th>\n",
              "      <th>LatestDateCost</th>\n",
              "      <th>A</th>\n",
              "      <th>B</th>\n",
              "      <th>C</th>\n",
              "      <th>D</th>\n",
              "      <th>E</th>\n",
              "      <th>F</th>\n",
              "      <th>G</th>\n",
              "      <th>GenPrice</th>\n",
              "    </tr>\n",
              "  </thead>\n",
              "  <tbody>\n",
              "    <tr>\n",
              "      <th>1388</th>\n",
              "      <td>37.797297</td>\n",
              "      <td>32.0</td>\n",
              "      <td>41.108108</td>\n",
              "      <td>39.405405</td>\n",
              "      <td>1</td>\n",
              "      <td>0</td>\n",
              "      <td>0</td>\n",
              "      <td>0</td>\n",
              "      <td>0</td>\n",
              "      <td>0</td>\n",
              "      <td>0</td>\n",
              "      <td>55.0</td>\n",
              "    </tr>\n",
              "    <tr>\n",
              "      <th>23997</th>\n",
              "      <td>12.121212</td>\n",
              "      <td>66.0</td>\n",
              "      <td>10.101010</td>\n",
              "      <td>10.101010</td>\n",
              "      <td>1</td>\n",
              "      <td>0</td>\n",
              "      <td>0</td>\n",
              "      <td>0</td>\n",
              "      <td>0</td>\n",
              "      <td>0</td>\n",
              "      <td>0</td>\n",
              "      <td>95.0</td>\n",
              "    </tr>\n",
              "    <tr>\n",
              "      <th>19402</th>\n",
              "      <td>0.000000</td>\n",
              "      <td>49.0</td>\n",
              "      <td>0.000000</td>\n",
              "      <td>0.000000</td>\n",
              "      <td>0</td>\n",
              "      <td>1</td>\n",
              "      <td>0</td>\n",
              "      <td>0</td>\n",
              "      <td>0</td>\n",
              "      <td>0</td>\n",
              "      <td>0</td>\n",
              "      <td>70.0</td>\n",
              "    </tr>\n",
              "    <tr>\n",
              "      <th>16365</th>\n",
              "      <td>31.565657</td>\n",
              "      <td>32.0</td>\n",
              "      <td>33.131313</td>\n",
              "      <td>31.242424</td>\n",
              "      <td>1</td>\n",
              "      <td>0</td>\n",
              "      <td>0</td>\n",
              "      <td>0</td>\n",
              "      <td>0</td>\n",
              "      <td>0</td>\n",
              "      <td>0</td>\n",
              "      <td>46.0</td>\n",
              "    </tr>\n",
              "    <tr>\n",
              "      <th>8684</th>\n",
              "      <td>48.265306</td>\n",
              "      <td>80.0</td>\n",
              "      <td>73.200000</td>\n",
              "      <td>73.810526</td>\n",
              "      <td>1</td>\n",
              "      <td>0</td>\n",
              "      <td>0</td>\n",
              "      <td>0</td>\n",
              "      <td>0</td>\n",
              "      <td>0</td>\n",
              "      <td>0</td>\n",
              "      <td>117.0</td>\n",
              "    </tr>\n",
              "  </tbody>\n",
              "</table>\n",
              "</div>"
            ],
            "text/plain": [
              "       PrevAVGCost  PrevAssignedCost    AVGCost  ...  F  G  GenPrice\n",
              "1388     37.797297              32.0  41.108108  ...  0  0      55.0\n",
              "23997    12.121212              66.0  10.101010  ...  0  0      95.0\n",
              "19402     0.000000              49.0   0.000000  ...  0  0      70.0\n",
              "16365    31.565657              32.0  33.131313  ...  0  0      46.0\n",
              "8684     48.265306              80.0  73.200000  ...  0  0     117.0\n",
              "\n",
              "[5 rows x 12 columns]"
            ]
          },
          "metadata": {
            "tags": []
          },
          "execution_count": 9
        }
      ]
    },
    {
      "cell_type": "code",
      "metadata": {
        "id": "O4mXcO83cBu7",
        "colab_type": "code",
        "outputId": "bd6bf568-1b6d-4d8d-ad11-8cc2e44d1e78",
        "colab": {
          "base_uri": "https://localhost:8080/",
          "height": 53
        }
      },
      "source": [
        "print(\"Train set accuracy = \" + str(mlp.score(X_train, y_train)))\n",
        "print(\"Test set accuracy = \" + str(mlp.score(X_test, y_test)))"
      ],
      "execution_count": 10,
      "outputs": [
        {
          "output_type": "stream",
          "text": [
            "Train set accuracy = 0.9877965955312668\n",
            "Test set accuracy = 0.9865772719237296\n"
          ],
          "name": "stdout"
        }
      ]
    },
    {
      "cell_type": "markdown",
      "metadata": {
        "id": "7Jl7_BOYXE_E",
        "colab_type": "text"
      },
      "source": [
        "#Predict"
      ]
    },
    {
      "cell_type": "code",
      "metadata": {
        "id": "xzrnKCOHURhl",
        "colab_type": "code",
        "colab": {}
      },
      "source": [
        "pred = mlp.predict(X_test)\n"
      ],
      "execution_count": 0,
      "outputs": []
    },
    {
      "cell_type": "code",
      "metadata": {
        "id": "RgyyszPRcRaP",
        "colab_type": "code",
        "outputId": "df2e2ed7-52d2-4921-d5ba-e8cb957aacf8",
        "colab": {
          "base_uri": "https://localhost:8080/",
          "height": 355
        }
      },
      "source": [
        "test=pd.concat([X_test,y_test],axis='columns')\n",
        "test.head(10)"
      ],
      "execution_count": 12,
      "outputs": [
        {
          "output_type": "execute_result",
          "data": {
            "text/html": [
              "<div>\n",
              "<style scoped>\n",
              "    .dataframe tbody tr th:only-of-type {\n",
              "        vertical-align: middle;\n",
              "    }\n",
              "\n",
              "    .dataframe tbody tr th {\n",
              "        vertical-align: top;\n",
              "    }\n",
              "\n",
              "    .dataframe thead th {\n",
              "        text-align: right;\n",
              "    }\n",
              "</style>\n",
              "<table border=\"1\" class=\"dataframe\">\n",
              "  <thead>\n",
              "    <tr style=\"text-align: right;\">\n",
              "      <th></th>\n",
              "      <th>PrevAVGCost</th>\n",
              "      <th>PrevAssignedCost</th>\n",
              "      <th>AVGCost</th>\n",
              "      <th>LatestDateCost</th>\n",
              "      <th>A</th>\n",
              "      <th>B</th>\n",
              "      <th>C</th>\n",
              "      <th>D</th>\n",
              "      <th>E</th>\n",
              "      <th>F</th>\n",
              "      <th>G</th>\n",
              "      <th>GenPrice</th>\n",
              "    </tr>\n",
              "  </thead>\n",
              "  <tbody>\n",
              "    <tr>\n",
              "      <th>2191</th>\n",
              "      <td>1.606061</td>\n",
              "      <td>2.000000</td>\n",
              "      <td>1.898990</td>\n",
              "      <td>1.262626</td>\n",
              "      <td>0</td>\n",
              "      <td>0</td>\n",
              "      <td>0</td>\n",
              "      <td>0</td>\n",
              "      <td>1</td>\n",
              "      <td>0</td>\n",
              "      <td>0</td>\n",
              "      <td>3.0</td>\n",
              "    </tr>\n",
              "    <tr>\n",
              "      <th>6931</th>\n",
              "      <td>54.656566</td>\n",
              "      <td>72.000000</td>\n",
              "      <td>54.656566</td>\n",
              "      <td>54.656566</td>\n",
              "      <td>1</td>\n",
              "      <td>0</td>\n",
              "      <td>0</td>\n",
              "      <td>0</td>\n",
              "      <td>0</td>\n",
              "      <td>0</td>\n",
              "      <td>0</td>\n",
              "      <td>79.0</td>\n",
              "    </tr>\n",
              "    <tr>\n",
              "      <th>14279</th>\n",
              "      <td>33.648936</td>\n",
              "      <td>35.000000</td>\n",
              "      <td>20.840426</td>\n",
              "      <td>21.574468</td>\n",
              "      <td>1</td>\n",
              "      <td>0</td>\n",
              "      <td>0</td>\n",
              "      <td>0</td>\n",
              "      <td>0</td>\n",
              "      <td>0</td>\n",
              "      <td>0</td>\n",
              "      <td>38.0</td>\n",
              "    </tr>\n",
              "    <tr>\n",
              "      <th>14618</th>\n",
              "      <td>0.000000</td>\n",
              "      <td>0.000000</td>\n",
              "      <td>24.555556</td>\n",
              "      <td>25.424242</td>\n",
              "      <td>1</td>\n",
              "      <td>0</td>\n",
              "      <td>0</td>\n",
              "      <td>0</td>\n",
              "      <td>0</td>\n",
              "      <td>0</td>\n",
              "      <td>0</td>\n",
              "      <td>37.0</td>\n",
              "    </tr>\n",
              "    <tr>\n",
              "      <th>15260</th>\n",
              "      <td>12.580645</td>\n",
              "      <td>13.000000</td>\n",
              "      <td>11.849462</td>\n",
              "      <td>10.451613</td>\n",
              "      <td>1</td>\n",
              "      <td>0</td>\n",
              "      <td>0</td>\n",
              "      <td>0</td>\n",
              "      <td>0</td>\n",
              "      <td>0</td>\n",
              "      <td>0</td>\n",
              "      <td>22.0</td>\n",
              "    </tr>\n",
              "    <tr>\n",
              "      <th>8095</th>\n",
              "      <td>0.000000</td>\n",
              "      <td>86.000000</td>\n",
              "      <td>0.000000</td>\n",
              "      <td>0.000000</td>\n",
              "      <td>0</td>\n",
              "      <td>0</td>\n",
              "      <td>1</td>\n",
              "      <td>0</td>\n",
              "      <td>0</td>\n",
              "      <td>0</td>\n",
              "      <td>0</td>\n",
              "      <td>136.0</td>\n",
              "    </tr>\n",
              "    <tr>\n",
              "      <th>22371</th>\n",
              "      <td>52.787879</td>\n",
              "      <td>54.000000</td>\n",
              "      <td>36.151515</td>\n",
              "      <td>27.676768</td>\n",
              "      <td>1</td>\n",
              "      <td>0</td>\n",
              "      <td>0</td>\n",
              "      <td>0</td>\n",
              "      <td>0</td>\n",
              "      <td>0</td>\n",
              "      <td>0</td>\n",
              "      <td>59.0</td>\n",
              "    </tr>\n",
              "    <tr>\n",
              "      <th>10980</th>\n",
              "      <td>0.000000</td>\n",
              "      <td>200.000000</td>\n",
              "      <td>212.373737</td>\n",
              "      <td>0.000000</td>\n",
              "      <td>0</td>\n",
              "      <td>0</td>\n",
              "      <td>0</td>\n",
              "      <td>0</td>\n",
              "      <td>0</td>\n",
              "      <td>0</td>\n",
              "      <td>1</td>\n",
              "      <td>275.0</td>\n",
              "    </tr>\n",
              "    <tr>\n",
              "      <th>9997</th>\n",
              "      <td>38.282828</td>\n",
              "      <td>48.919192</td>\n",
              "      <td>39.767677</td>\n",
              "      <td>39.666667</td>\n",
              "      <td>0</td>\n",
              "      <td>0</td>\n",
              "      <td>0</td>\n",
              "      <td>0</td>\n",
              "      <td>0</td>\n",
              "      <td>0</td>\n",
              "      <td>1</td>\n",
              "      <td>65.0</td>\n",
              "    </tr>\n",
              "    <tr>\n",
              "      <th>23062</th>\n",
              "      <td>38.202020</td>\n",
              "      <td>60.000000</td>\n",
              "      <td>90.909091</td>\n",
              "      <td>90.909091</td>\n",
              "      <td>0</td>\n",
              "      <td>1</td>\n",
              "      <td>0</td>\n",
              "      <td>0</td>\n",
              "      <td>0</td>\n",
              "      <td>0</td>\n",
              "      <td>0</td>\n",
              "      <td>100.0</td>\n",
              "    </tr>\n",
              "  </tbody>\n",
              "</table>\n",
              "</div>"
            ],
            "text/plain": [
              "       PrevAVGCost  PrevAssignedCost     AVGCost  ...  F  G  GenPrice\n",
              "2191      1.606061          2.000000    1.898990  ...  0  0       3.0\n",
              "6931     54.656566         72.000000   54.656566  ...  0  0      79.0\n",
              "14279    33.648936         35.000000   20.840426  ...  0  0      38.0\n",
              "14618     0.000000          0.000000   24.555556  ...  0  0      37.0\n",
              "15260    12.580645         13.000000   11.849462  ...  0  0      22.0\n",
              "8095      0.000000         86.000000    0.000000  ...  0  0     136.0\n",
              "22371    52.787879         54.000000   36.151515  ...  0  0      59.0\n",
              "10980     0.000000        200.000000  212.373737  ...  0  1     275.0\n",
              "9997     38.282828         48.919192   39.767677  ...  0  1      65.0\n",
              "23062    38.202020         60.000000   90.909091  ...  0  0     100.0\n",
              "\n",
              "[10 rows x 12 columns]"
            ]
          },
          "metadata": {
            "tags": []
          },
          "execution_count": 12
        }
      ]
    },
    {
      "cell_type": "code",
      "metadata": {
        "id": "WjU042PlcVDL",
        "colab_type": "code",
        "outputId": "ad730983-181c-4658-b93b-0ede357b9d41",
        "colab": {
          "base_uri": "https://localhost:8080/",
          "height": 355
        }
      },
      "source": [
        "dt=pd.concat([test.reset_index(),pd.Series(pred,name='predicted')],axis='columns').round(2)\n",
        "dt.head(10)"
      ],
      "execution_count": 13,
      "outputs": [
        {
          "output_type": "execute_result",
          "data": {
            "text/html": [
              "<div>\n",
              "<style scoped>\n",
              "    .dataframe tbody tr th:only-of-type {\n",
              "        vertical-align: middle;\n",
              "    }\n",
              "\n",
              "    .dataframe tbody tr th {\n",
              "        vertical-align: top;\n",
              "    }\n",
              "\n",
              "    .dataframe thead th {\n",
              "        text-align: right;\n",
              "    }\n",
              "</style>\n",
              "<table border=\"1\" class=\"dataframe\">\n",
              "  <thead>\n",
              "    <tr style=\"text-align: right;\">\n",
              "      <th></th>\n",
              "      <th>index</th>\n",
              "      <th>PrevAVGCost</th>\n",
              "      <th>PrevAssignedCost</th>\n",
              "      <th>AVGCost</th>\n",
              "      <th>LatestDateCost</th>\n",
              "      <th>A</th>\n",
              "      <th>B</th>\n",
              "      <th>C</th>\n",
              "      <th>D</th>\n",
              "      <th>E</th>\n",
              "      <th>F</th>\n",
              "      <th>G</th>\n",
              "      <th>GenPrice</th>\n",
              "      <th>predicted</th>\n",
              "    </tr>\n",
              "  </thead>\n",
              "  <tbody>\n",
              "    <tr>\n",
              "      <th>0</th>\n",
              "      <td>2191</td>\n",
              "      <td>1.61</td>\n",
              "      <td>2.00</td>\n",
              "      <td>1.90</td>\n",
              "      <td>1.26</td>\n",
              "      <td>0</td>\n",
              "      <td>0</td>\n",
              "      <td>0</td>\n",
              "      <td>0</td>\n",
              "      <td>1</td>\n",
              "      <td>0</td>\n",
              "      <td>0</td>\n",
              "      <td>3.0</td>\n",
              "      <td>3.04</td>\n",
              "    </tr>\n",
              "    <tr>\n",
              "      <th>1</th>\n",
              "      <td>6931</td>\n",
              "      <td>54.66</td>\n",
              "      <td>72.00</td>\n",
              "      <td>54.66</td>\n",
              "      <td>54.66</td>\n",
              "      <td>1</td>\n",
              "      <td>0</td>\n",
              "      <td>0</td>\n",
              "      <td>0</td>\n",
              "      <td>0</td>\n",
              "      <td>0</td>\n",
              "      <td>0</td>\n",
              "      <td>79.0</td>\n",
              "      <td>93.27</td>\n",
              "    </tr>\n",
              "    <tr>\n",
              "      <th>2</th>\n",
              "      <td>14279</td>\n",
              "      <td>33.65</td>\n",
              "      <td>35.00</td>\n",
              "      <td>20.84</td>\n",
              "      <td>21.57</td>\n",
              "      <td>1</td>\n",
              "      <td>0</td>\n",
              "      <td>0</td>\n",
              "      <td>0</td>\n",
              "      <td>0</td>\n",
              "      <td>0</td>\n",
              "      <td>0</td>\n",
              "      <td>38.0</td>\n",
              "      <td>39.56</td>\n",
              "    </tr>\n",
              "    <tr>\n",
              "      <th>3</th>\n",
              "      <td>14618</td>\n",
              "      <td>0.00</td>\n",
              "      <td>0.00</td>\n",
              "      <td>24.56</td>\n",
              "      <td>25.42</td>\n",
              "      <td>1</td>\n",
              "      <td>0</td>\n",
              "      <td>0</td>\n",
              "      <td>0</td>\n",
              "      <td>0</td>\n",
              "      <td>0</td>\n",
              "      <td>0</td>\n",
              "      <td>37.0</td>\n",
              "      <td>33.73</td>\n",
              "    </tr>\n",
              "    <tr>\n",
              "      <th>4</th>\n",
              "      <td>15260</td>\n",
              "      <td>12.58</td>\n",
              "      <td>13.00</td>\n",
              "      <td>11.85</td>\n",
              "      <td>10.45</td>\n",
              "      <td>1</td>\n",
              "      <td>0</td>\n",
              "      <td>0</td>\n",
              "      <td>0</td>\n",
              "      <td>0</td>\n",
              "      <td>0</td>\n",
              "      <td>0</td>\n",
              "      <td>22.0</td>\n",
              "      <td>17.53</td>\n",
              "    </tr>\n",
              "    <tr>\n",
              "      <th>5</th>\n",
              "      <td>8095</td>\n",
              "      <td>0.00</td>\n",
              "      <td>86.00</td>\n",
              "      <td>0.00</td>\n",
              "      <td>0.00</td>\n",
              "      <td>0</td>\n",
              "      <td>0</td>\n",
              "      <td>1</td>\n",
              "      <td>0</td>\n",
              "      <td>0</td>\n",
              "      <td>0</td>\n",
              "      <td>0</td>\n",
              "      <td>136.0</td>\n",
              "      <td>124.78</td>\n",
              "    </tr>\n",
              "    <tr>\n",
              "      <th>6</th>\n",
              "      <td>22371</td>\n",
              "      <td>52.79</td>\n",
              "      <td>54.00</td>\n",
              "      <td>36.15</td>\n",
              "      <td>27.68</td>\n",
              "      <td>1</td>\n",
              "      <td>0</td>\n",
              "      <td>0</td>\n",
              "      <td>0</td>\n",
              "      <td>0</td>\n",
              "      <td>0</td>\n",
              "      <td>0</td>\n",
              "      <td>59.0</td>\n",
              "      <td>60.64</td>\n",
              "    </tr>\n",
              "    <tr>\n",
              "      <th>7</th>\n",
              "      <td>10980</td>\n",
              "      <td>0.00</td>\n",
              "      <td>200.00</td>\n",
              "      <td>212.37</td>\n",
              "      <td>0.00</td>\n",
              "      <td>0</td>\n",
              "      <td>0</td>\n",
              "      <td>0</td>\n",
              "      <td>0</td>\n",
              "      <td>0</td>\n",
              "      <td>0</td>\n",
              "      <td>1</td>\n",
              "      <td>275.0</td>\n",
              "      <td>279.93</td>\n",
              "    </tr>\n",
              "    <tr>\n",
              "      <th>8</th>\n",
              "      <td>9997</td>\n",
              "      <td>38.28</td>\n",
              "      <td>48.92</td>\n",
              "      <td>39.77</td>\n",
              "      <td>39.67</td>\n",
              "      <td>0</td>\n",
              "      <td>0</td>\n",
              "      <td>0</td>\n",
              "      <td>0</td>\n",
              "      <td>0</td>\n",
              "      <td>0</td>\n",
              "      <td>1</td>\n",
              "      <td>65.0</td>\n",
              "      <td>68.66</td>\n",
              "    </tr>\n",
              "    <tr>\n",
              "      <th>9</th>\n",
              "      <td>23062</td>\n",
              "      <td>38.20</td>\n",
              "      <td>60.00</td>\n",
              "      <td>90.91</td>\n",
              "      <td>90.91</td>\n",
              "      <td>0</td>\n",
              "      <td>1</td>\n",
              "      <td>0</td>\n",
              "      <td>0</td>\n",
              "      <td>0</td>\n",
              "      <td>0</td>\n",
              "      <td>0</td>\n",
              "      <td>100.0</td>\n",
              "      <td>117.87</td>\n",
              "    </tr>\n",
              "  </tbody>\n",
              "</table>\n",
              "</div>"
            ],
            "text/plain": [
              "   index  PrevAVGCost  PrevAssignedCost  AVGCost  ...  F  G  GenPrice  predicted\n",
              "0   2191         1.61              2.00     1.90  ...  0  0       3.0       3.04\n",
              "1   6931        54.66             72.00    54.66  ...  0  0      79.0      93.27\n",
              "2  14279        33.65             35.00    20.84  ...  0  0      38.0      39.56\n",
              "3  14618         0.00              0.00    24.56  ...  0  0      37.0      33.73\n",
              "4  15260        12.58             13.00    11.85  ...  0  0      22.0      17.53\n",
              "5   8095         0.00             86.00     0.00  ...  0  0     136.0     124.78\n",
              "6  22371        52.79             54.00    36.15  ...  0  0      59.0      60.64\n",
              "7  10980         0.00            200.00   212.37  ...  0  1     275.0     279.93\n",
              "8   9997        38.28             48.92    39.77  ...  0  1      65.0      68.66\n",
              "9  23062        38.20             60.00    90.91  ...  0  0     100.0     117.87\n",
              "\n",
              "[10 rows x 14 columns]"
            ]
          },
          "metadata": {
            "tags": []
          },
          "execution_count": 13
        }
      ]
    },
    {
      "cell_type": "markdown",
      "metadata": {
        "id": "8y98etp9cY_M",
        "colab_type": "text"
      },
      "source": [
        "#MSE"
      ]
    },
    {
      "cell_type": "code",
      "metadata": {
        "id": "wE3o1SSUZXsJ",
        "colab_type": "code",
        "outputId": "5a8c1810-0586-4a39-f6e4-a3044cfa37b8",
        "colab": {
          "base_uri": "https://localhost:8080/",
          "height": 35
        }
      },
      "source": [
        "print('MSE:',mean_squared_error(y_test, pred))"
      ],
      "execution_count": 14,
      "outputs": [
        {
          "output_type": "stream",
          "text": [
            "MSE: 154.60882225170894\n"
          ],
          "name": "stdout"
        }
      ]
    },
    {
      "cell_type": "markdown",
      "metadata": {
        "id": "h6-8NWRFca0m",
        "colab_type": "text"
      },
      "source": [
        "#MAPE"
      ]
    },
    {
      "cell_type": "code",
      "metadata": {
        "id": "yzIuKpFxZYHW",
        "colab_type": "code",
        "colab": {}
      },
      "source": [
        "def mean_absolute_percentage_error(y_true, y_pred): \n",
        "    y_true, y_pred = np.array(y_true), np.array(y_pred)\n",
        "    return np.mean(np.abs((y_true - y_pred) / y_true)) * 100"
      ],
      "execution_count": 0,
      "outputs": []
    },
    {
      "cell_type": "code",
      "metadata": {
        "id": "5I7aVCmlZddV",
        "colab_type": "code",
        "outputId": "bfc8a5d8-ace8-4062-fdd7-6fe6f148f66f",
        "colab": {
          "base_uri": "https://localhost:8080/",
          "height": 35
        }
      },
      "source": [
        "print('MAPE:', mean_absolute_percentage_error(y_test, pred))"
      ],
      "execution_count": 16,
      "outputs": [
        {
          "output_type": "stream",
          "text": [
            "MAPE: 6.941865692864685\n"
          ],
          "name": "stdout"
        }
      ]
    },
    {
      "cell_type": "code",
      "metadata": {
        "id": "NWYL13CEZfoX",
        "colab_type": "code",
        "outputId": "66b93ceb-7dc1-4d80-e20f-c414aefb0cf1",
        "colab": {
          "base_uri": "https://localhost:8080/",
          "height": 279
        }
      },
      "source": [
        "import matplotlib.pyplot as plt\n",
        "plt.plot([i for i in range(len(pred))], pred, color='r')\n",
        "#plt.scatter([i for i in range(len(pred))],sorted(pred),color='r')\n",
        "plt.scatter([i for i in range(len(pred))],y_test,color='b')\n",
        "plt.ylabel('price')\n",
        "plt.xlabel('index')\n",
        "plt.legend(['pred', 'dev'], loc='best')\n",
        "plt.show()"
      ],
      "execution_count": 17,
      "outputs": [
        {
          "output_type": "display_data",
          "data": {
            "image/png": "[encoded data removed]",
            "text/plain": [
              "<Figure size 432x288 with 1 Axes>"
            ]
          },
          "metadata": {
            "tags": [],
            "needs_background": "light"
          }
        }
      ]
    },
    {
      "cell_type": "markdown",
      "metadata": {
        "id": "6HD2dmMbyNAw",
        "colab_type": "text"
      },
      "source": [
        "#dump(save) &load model with joblib"
      ]
    },
    {
      "cell_type": "code",
      "metadata": {
        "id": "FR2XjfIjyQJ4",
        "colab_type": "code",
        "colab": {
          "base_uri": "https://localhost:8080/",
          "height": 35
        },
        "outputId": "878f85a9-d08d-4597-fc3c-62b9387c7b77"
      },
      "source": [
        "from sklearn.externals import joblib\n",
        "joblib.dump(mlp,'Genprice.joblib')"
      ],
      "execution_count": 18,
      "outputs": [
        {
          "output_type": "execute_result",
          "data": {
            "text/plain": [
              "['Genprice.joblib']"
            ]
          },
          "metadata": {
            "tags": []
          },
          "execution_count": 18
        }
      ]
    },
    {
      "cell_type": "code",
      "metadata": {
        "id": "UgpLfw3KZsPq",
        "colab_type": "code",
        "colab": {}
      },
      "source": [
        "fn=joblib.load('Genprice.joblib')"
      ],
      "execution_count": 0,
      "outputs": []
    },
    {
      "cell_type": "markdown",
      "metadata": {
        "id": "fRvNYSn70IKg",
        "colab_type": "text"
      },
      "source": [
        "#Predict Test1"
      ]
    },
    {
      "cell_type": "code",
      "metadata": {
        "id": "GFfeZMcky2AH",
        "colab_type": "code",
        "colab": {}
      },
      "source": [
        "ts1=pd.read_csv('cleaningtestdata1.csv')\n",
        "tx=ts1[['PrevAVGCost','PrevAssignedCost','AVGCost','LatestDateCost','A','B','C','D','E','F','G']]"
      ],
      "execution_count": 0,
      "outputs": []
    },
    {
      "cell_type": "code",
      "metadata": {
        "id": "JWmxfvHQ0ZKG",
        "colab_type": "code",
        "colab": {}
      },
      "source": [
        "prediction=fn.predict(tx)"
      ],
      "execution_count": 0,
      "outputs": []
    },
    {
      "cell_type": "code",
      "metadata": {
        "id": "OXD3LVGy0fD3",
        "colab_type": "code",
        "colab": {}
      },
      "source": [
        "ts1['GenPrice']=prediction"
      ],
      "execution_count": 0,
      "outputs": []
    },
    {
      "cell_type": "code",
      "metadata": {
        "id": "C9mChJiq0kSk",
        "colab_type": "code",
        "colab": {}
      },
      "source": [
        "test1=ts1[['SKU','date','GenPrice']]"
      ],
      "execution_count": 0,
      "outputs": []
    },
    {
      "cell_type": "code",
      "metadata": {
        "id": "83vw-C_I0s6Q",
        "colab_type": "code",
        "colab": {
          "base_uri": "https://localhost:8080/",
          "height": 415
        },
        "outputId": "d30c1026-8d60-4444-be14-bb25e1117ebd"
      },
      "source": [
        "test1"
      ],
      "execution_count": 24,
      "outputs": [
        {
          "output_type": "execute_result",
          "data": {
            "text/html": [
              "<div>\n",
              "<style scoped>\n",
              "    .dataframe tbody tr th:only-of-type {\n",
              "        vertical-align: middle;\n",
              "    }\n",
              "\n",
              "    .dataframe tbody tr th {\n",
              "        vertical-align: top;\n",
              "    }\n",
              "\n",
              "    .dataframe thead th {\n",
              "        text-align: right;\n",
              "    }\n",
              "</style>\n",
              "<table border=\"1\" class=\"dataframe\">\n",
              "  <thead>\n",
              "    <tr style=\"text-align: right;\">\n",
              "      <th></th>\n",
              "      <th>SKU</th>\n",
              "      <th>date</th>\n",
              "      <th>GenPrice</th>\n",
              "    </tr>\n",
              "  </thead>\n",
              "  <tbody>\n",
              "    <tr>\n",
              "      <th>0</th>\n",
              "      <td>A-A-00001</td>\n",
              "      <td>1/20/2020</td>\n",
              "      <td>42.335635</td>\n",
              "    </tr>\n",
              "    <tr>\n",
              "      <th>1</th>\n",
              "      <td>A-B-00001</td>\n",
              "      <td>1/20/2020</td>\n",
              "      <td>76.169886</td>\n",
              "    </tr>\n",
              "    <tr>\n",
              "      <th>2</th>\n",
              "      <td>A-B-00002</td>\n",
              "      <td>1/20/2020</td>\n",
              "      <td>54.727191</td>\n",
              "    </tr>\n",
              "    <tr>\n",
              "      <th>3</th>\n",
              "      <td>A-C-00001</td>\n",
              "      <td>1/20/2020</td>\n",
              "      <td>110.806611</td>\n",
              "    </tr>\n",
              "    <tr>\n",
              "      <th>4</th>\n",
              "      <td>A-C-00019</td>\n",
              "      <td>1/20/2020</td>\n",
              "      <td>110.806611</td>\n",
              "    </tr>\n",
              "    <tr>\n",
              "      <th>...</th>\n",
              "      <td>...</td>\n",
              "      <td>...</td>\n",
              "      <td>...</td>\n",
              "    </tr>\n",
              "    <tr>\n",
              "      <th>495</th>\n",
              "      <td>A-E-00170</td>\n",
              "      <td>1/20/2020</td>\n",
              "      <td>4.985516</td>\n",
              "    </tr>\n",
              "    <tr>\n",
              "      <th>496</th>\n",
              "      <td>A-E-00171</td>\n",
              "      <td>1/20/2020</td>\n",
              "      <td>4.985516</td>\n",
              "    </tr>\n",
              "    <tr>\n",
              "      <th>497</th>\n",
              "      <td>A-D-00149</td>\n",
              "      <td>1/20/2020</td>\n",
              "      <td>4.985516</td>\n",
              "    </tr>\n",
              "    <tr>\n",
              "      <th>498</th>\n",
              "      <td>A-B-00040</td>\n",
              "      <td>1/20/2020</td>\n",
              "      <td>4.985516</td>\n",
              "    </tr>\n",
              "    <tr>\n",
              "      <th>499</th>\n",
              "      <td>A-I-00090</td>\n",
              "      <td>1/20/2020</td>\n",
              "      <td>4.985516</td>\n",
              "    </tr>\n",
              "  </tbody>\n",
              "</table>\n",
              "<p>500 rows × 3 columns</p>\n",
              "</div>"
            ],
            "text/plain": [
              "           SKU       date    GenPrice\n",
              "0    A-A-00001  1/20/2020   42.335635\n",
              "1    A-B-00001  1/20/2020   76.169886\n",
              "2    A-B-00002  1/20/2020   54.727191\n",
              "3    A-C-00001  1/20/2020  110.806611\n",
              "4    A-C-00019  1/20/2020  110.806611\n",
              "..         ...        ...         ...\n",
              "495  A-E-00170  1/20/2020    4.985516\n",
              "496  A-E-00171  1/20/2020    4.985516\n",
              "497  A-D-00149  1/20/2020    4.985516\n",
              "498  A-B-00040  1/20/2020    4.985516\n",
              "499  A-I-00090  1/20/2020    4.985516\n",
              "\n",
              "[500 rows x 3 columns]"
            ]
          },
          "metadata": {
            "tags": []
          },
          "execution_count": 24
        }
      ]
    },
    {
      "cell_type": "code",
      "metadata": {
        "id": "uiU12kRg0uNd",
        "colab_type": "code",
        "colab": {}
      },
      "source": [
        "test1.to_csv('testdata1_neural.csv')"
      ],
      "execution_count": 0,
      "outputs": []
    },
    {
      "cell_type": "markdown",
      "metadata": {
        "id": "bDzwJVY11DLL",
        "colab_type": "text"
      },
      "source": [
        "#Predic test2"
      ]
    },
    {
      "cell_type": "code",
      "metadata": {
        "id": "aLWdn8vB07Yr",
        "colab_type": "code",
        "colab": {}
      },
      "source": [
        "ts2=pd.read_csv('cleaningtestdata2.csv')\n",
        "test2=ts2[['PrevAVGCost','PrevAssignedCost','AVGCost','LatestDateCost','A','B','C','D','E','F','G']]"
      ],
      "execution_count": 0,
      "outputs": []
    },
    {
      "cell_type": "code",
      "metadata": {
        "id": "U9jGuw-s1Iuz",
        "colab_type": "code",
        "colab": {}
      },
      "source": [
        "predic=fn.predict(test2)"
      ],
      "execution_count": 0,
      "outputs": []
    },
    {
      "cell_type": "code",
      "metadata": {
        "id": "_CkRG2LW1PYz",
        "colab_type": "code",
        "colab": {}
      },
      "source": [
        "ts2['GenPrice']=predic"
      ],
      "execution_count": 0,
      "outputs": []
    },
    {
      "cell_type": "code",
      "metadata": {
        "id": "QlaOYcSt1Sus",
        "colab_type": "code",
        "colab": {}
      },
      "source": [
        "test_2=ts2[['SKU','date','GenPrice']]"
      ],
      "execution_count": 0,
      "outputs": []
    },
    {
      "cell_type": "code",
      "metadata": {
        "id": "zTtnNNk91V3o",
        "colab_type": "code",
        "colab": {
          "base_uri": "https://localhost:8080/",
          "height": 415
        },
        "outputId": "1670cdf1-90a1-4dd3-f5a1-6aec337e066c"
      },
      "source": [
        "test_2"
      ],
      "execution_count": 30,
      "outputs": [
        {
          "output_type": "execute_result",
          "data": {
            "text/html": [
              "<div>\n",
              "<style scoped>\n",
              "    .dataframe tbody tr th:only-of-type {\n",
              "        vertical-align: middle;\n",
              "    }\n",
              "\n",
              "    .dataframe tbody tr th {\n",
              "        vertical-align: top;\n",
              "    }\n",
              "\n",
              "    .dataframe thead th {\n",
              "        text-align: right;\n",
              "    }\n",
              "</style>\n",
              "<table border=\"1\" class=\"dataframe\">\n",
              "  <thead>\n",
              "    <tr style=\"text-align: right;\">\n",
              "      <th></th>\n",
              "      <th>SKU</th>\n",
              "      <th>date</th>\n",
              "      <th>GenPrice</th>\n",
              "    </tr>\n",
              "  </thead>\n",
              "  <tbody>\n",
              "    <tr>\n",
              "      <th>0</th>\n",
              "      <td>A-A-00001</td>\n",
              "      <td>2020-03-27</td>\n",
              "      <td>29.703474</td>\n",
              "    </tr>\n",
              "    <tr>\n",
              "      <th>1</th>\n",
              "      <td>A-B-00001</td>\n",
              "      <td>2020-03-27</td>\n",
              "      <td>64.741014</td>\n",
              "    </tr>\n",
              "    <tr>\n",
              "      <th>2</th>\n",
              "      <td>A-B-00002</td>\n",
              "      <td>2020-03-27</td>\n",
              "      <td>60.112407</td>\n",
              "    </tr>\n",
              "    <tr>\n",
              "      <th>3</th>\n",
              "      <td>A-C-00001</td>\n",
              "      <td>2020-03-27</td>\n",
              "      <td>119.256257</td>\n",
              "    </tr>\n",
              "    <tr>\n",
              "      <th>4</th>\n",
              "      <td>A-C-00019</td>\n",
              "      <td>2020-03-27</td>\n",
              "      <td>119.256257</td>\n",
              "    </tr>\n",
              "    <tr>\n",
              "      <th>...</th>\n",
              "      <td>...</td>\n",
              "      <td>...</td>\n",
              "      <td>...</td>\n",
              "    </tr>\n",
              "    <tr>\n",
              "      <th>506</th>\n",
              "      <td>A-B-00040</td>\n",
              "      <td>2020-03-27</td>\n",
              "      <td>4.985516</td>\n",
              "    </tr>\n",
              "    <tr>\n",
              "      <th>507</th>\n",
              "      <td>A-I-00090</td>\n",
              "      <td>2020-03-27</td>\n",
              "      <td>4.985516</td>\n",
              "    </tr>\n",
              "    <tr>\n",
              "      <th>508</th>\n",
              "      <td>A-E-00190</td>\n",
              "      <td>2020-03-27</td>\n",
              "      <td>4.985516</td>\n",
              "    </tr>\n",
              "    <tr>\n",
              "      <th>509</th>\n",
              "      <td>A-E-00011</td>\n",
              "      <td>2020-03-27</td>\n",
              "      <td>4.985516</td>\n",
              "    </tr>\n",
              "    <tr>\n",
              "      <th>510</th>\n",
              "      <td>A-K-00029</td>\n",
              "      <td>2020-03-27</td>\n",
              "      <td>4.985516</td>\n",
              "    </tr>\n",
              "  </tbody>\n",
              "</table>\n",
              "<p>511 rows × 3 columns</p>\n",
              "</div>"
            ],
            "text/plain": [
              "           SKU        date    GenPrice\n",
              "0    A-A-00001  2020-03-27   29.703474\n",
              "1    A-B-00001  2020-03-27   64.741014\n",
              "2    A-B-00002  2020-03-27   60.112407\n",
              "3    A-C-00001  2020-03-27  119.256257\n",
              "4    A-C-00019  2020-03-27  119.256257\n",
              "..         ...         ...         ...\n",
              "506  A-B-00040  2020-03-27    4.985516\n",
              "507  A-I-00090  2020-03-27    4.985516\n",
              "508  A-E-00190  2020-03-27    4.985516\n",
              "509  A-E-00011  2020-03-27    4.985516\n",
              "510  A-K-00029  2020-03-27    4.985516\n",
              "\n",
              "[511 rows x 3 columns]"
            ]
          },
          "metadata": {
            "tags": []
          },
          "execution_count": 30
        }
      ]
    },
    {
      "cell_type": "code",
      "metadata": {
        "id": "Bo5k17JL1ZVV",
        "colab_type": "code",
        "colab": {}
      },
      "source": [
        "test_2.to_csv('testdata2_neural.csv')"
      ],
      "execution_count": 0,
      "outputs": []
    },
    {
      "cell_type": "code",
      "metadata": {
        "id": "eyrQ-2gZ1kGC",
        "colab_type": "code",
        "colab": {}
      },
      "source": [
        ""
      ],
      "execution_count": 0,
      "outputs": []
    }
  ]
}