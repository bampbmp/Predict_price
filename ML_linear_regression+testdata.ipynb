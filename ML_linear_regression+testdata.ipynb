{
  "nbformat": 4,
  "nbformat_minor": 0,
  "metadata": {
    "colab": {
      "name": "ML_linear regression+testdata.ipynb",
      "provenance": []
    },
    "kernelspec": {
      "name": "python3",
      "display_name": "Python 3"
    }
  },
  "cells": [
    {
      "cell_type": "code",
      "metadata": {
        "id": "fZX978ZOeTcs",
        "colab_type": "code",
        "colab": {}
      },
      "source": [
        "import pandas as pd\n",
        "import numpy as np\n",
        "from sklearn.metrics import mean_squared_error,mean_absolute_error,accuracy_score"
      ],
      "execution_count": 0,
      "outputs": []
    },
    {
      "cell_type": "code",
      "metadata": {
        "id": "tM55JzI0fkel",
        "colab_type": "code",
        "colab": {}
      },
      "source": [
        "df=pd.read_csv('cleaningtrainingdata.csv')"
      ],
      "execution_count": 0,
      "outputs": []
    },
    {
      "cell_type": "markdown",
      "metadata": {
        "id": "CXSrdQaoh-uX",
        "colab_type": "text"
      },
      "source": [
        "#Training a Linear Regression Model เลือกfeature"
      ]
    },
    {
      "cell_type": "code",
      "metadata": {
        "id": "xBwf_o3_h-Mo",
        "colab_type": "code",
        "colab": {}
      },
      "source": [
        "X=df[['PrevAVGCost','PrevAssignedCost','AVGCost','LatestDateCost','A','B','C','D','E','F','G']]\n",
        "y=df['GenPrice']"
      ],
      "execution_count": 0,
      "outputs": []
    },
    {
      "cell_type": "markdown",
      "metadata": {
        "id": "nTVs5tQkkXJQ",
        "colab_type": "text"
      },
      "source": [
        "#Train test split"
      ]
    },
    {
      "cell_type": "code",
      "metadata": {
        "id": "CJkodS4nk7dI",
        "colab_type": "code",
        "colab": {}
      },
      "source": [
        "from sklearn.model_selection import train_test_split"
      ],
      "execution_count": 0,
      "outputs": []
    },
    {
      "cell_type": "code",
      "metadata": {
        "id": "0QNygXBomIRe",
        "colab_type": "code",
        "colab": {}
      },
      "source": [
        "X_train,X_test,y_train,y_test=train_test_split(X,y,test_size=0.2, random_state=888)"
      ],
      "execution_count": 0,
      "outputs": []
    },
    {
      "cell_type": "code",
      "metadata": {
        "id": "ulZ_-mBmmkME",
        "colab_type": "code",
        "outputId": "78b9d82a-7c5a-4a17-9d7f-be8419d0683f",
        "colab": {
          "base_uri": "https://localhost:8080/",
          "height": 53
        }
      },
      "source": [
        "print (X_train.shape, y_train.shape)\n",
        "print (X_test.shape, y_test.shape)"
      ],
      "execution_count": 37,
      "outputs": [
        {
          "output_type": "stream",
          "text": [
            "(19700, 11) (19700,)\n",
            "(4926, 11) (4926,)\n"
          ],
          "name": "stdout"
        }
      ]
    },
    {
      "cell_type": "markdown",
      "metadata": {
        "id": "-4jOpB4hj0ox",
        "colab_type": "text"
      },
      "source": [
        "#Creating and Traing the model"
      ]
    },
    {
      "cell_type": "code",
      "metadata": {
        "id": "Z6VJg0fxjzxU",
        "colab_type": "code",
        "colab": {}
      },
      "source": [
        "from sklearn.linear_model import LinearRegression"
      ],
      "execution_count": 0,
      "outputs": []
    },
    {
      "cell_type": "code",
      "metadata": {
        "id": "CuWPQ0dkfsPE",
        "colab_type": "code",
        "colab": {}
      },
      "source": [
        "lm=LinearRegression()"
      ],
      "execution_count": 0,
      "outputs": []
    },
    {
      "cell_type": "code",
      "metadata": {
        "id": "ukZd6YnDkH7L",
        "colab_type": "code",
        "outputId": "d26623ab-eff4-4202-e904-9dd8a0ff637f",
        "colab": {
          "base_uri": "https://localhost:8080/",
          "height": 35
        }
      },
      "source": [
        "lm.fit(X_train,y_train)"
      ],
      "execution_count": 40,
      "outputs": [
        {
          "output_type": "execute_result",
          "data": {
            "text/plain": [
              "LinearRegression(copy_X=True, fit_intercept=True, n_jobs=None, normalize=False)"
            ]
          },
          "metadata": {
            "tags": []
          },
          "execution_count": 40
        }
      ]
    },
    {
      "cell_type": "code",
      "metadata": {
        "id": "LzA_ZO5eeUZF",
        "colab_type": "code",
        "outputId": "abc3da82-e44e-4b2b-ea3b-005901f4f0ab",
        "colab": {
          "base_uri": "https://localhost:8080/",
          "height": 35
        }
      },
      "source": [
        "lm.intercept_ "
      ],
      "execution_count": 41,
      "outputs": [
        {
          "output_type": "execute_result",
          "data": {
            "text/plain": [
              "7.558824448884792"
            ]
          },
          "metadata": {
            "tags": []
          },
          "execution_count": 41
        }
      ]
    },
    {
      "cell_type": "code",
      "metadata": {
        "id": "2f9v7sQrfC9x",
        "colab_type": "code",
        "outputId": "d2c59a36-78d0-486e-c9f3-c860a06f040d",
        "colab": {
          "base_uri": "https://localhost:8080/",
          "height": 71
        }
      },
      "source": [
        "lm.coef_"
      ],
      "execution_count": 42,
      "outputs": [
        {
          "output_type": "execute_result",
          "data": {
            "text/plain": [
              "array([-0.20197369,  1.27350373,  0.15684448,  0.0239253 , -0.1457017 ,\n",
              "        0.07050556,  8.03444855, -4.92905774, -6.75134151,  2.67340165,\n",
              "        1.0477452 ])"
            ]
          },
          "metadata": {
            "tags": []
          },
          "execution_count": 42
        }
      ]
    },
    {
      "cell_type": "code",
      "metadata": {
        "id": "mHFKOeOueB8D",
        "colab_type": "code",
        "outputId": "9561d84a-baa7-4111-826f-5652e95557d9",
        "colab": {
          "base_uri": "https://localhost:8080/",
          "height": 233
        }
      },
      "source": [
        "pd.Series(lm.coef_,index=X.columns)"
      ],
      "execution_count": 43,
      "outputs": [
        {
          "output_type": "execute_result",
          "data": {
            "text/plain": [
              "PrevAVGCost        -0.201974\n",
              "PrevAssignedCost    1.273504\n",
              "AVGCost             0.156844\n",
              "LatestDateCost      0.023925\n",
              "A                  -0.145702\n",
              "B                   0.070506\n",
              "C                   8.034449\n",
              "D                  -4.929058\n",
              "E                  -6.751342\n",
              "F                   2.673402\n",
              "G                   1.047745\n",
              "dtype: float64"
            ]
          },
          "metadata": {
            "tags": []
          },
          "execution_count": 43
        }
      ]
    },
    {
      "cell_type": "code",
      "metadata": {
        "id": "Mryo6Hj5f7nt",
        "colab_type": "code",
        "outputId": "4423dc5a-c193-4723-b0ea-b6d29280c74e",
        "colab": {
          "base_uri": "https://localhost:8080/",
          "height": 202
        }
      },
      "source": [
        "train=pd.concat([X_train,y_train],axis='columns')\n",
        "train.head()"
      ],
      "execution_count": 44,
      "outputs": [
        {
          "output_type": "execute_result",
          "data": {
            "text/html": [
              "<div>\n",
              "<style scoped>\n",
              "    .dataframe tbody tr th:only-of-type {\n",
              "        vertical-align: middle;\n",
              "    }\n",
              "\n",
              "    .dataframe tbody tr th {\n",
              "        vertical-align: top;\n",
              "    }\n",
              "\n",
              "    .dataframe thead th {\n",
              "        text-align: right;\n",
              "    }\n",
              "</style>\n",
              "<table border=\"1\" class=\"dataframe\">\n",
              "  <thead>\n",
              "    <tr style=\"text-align: right;\">\n",
              "      <th></th>\n",
              "      <th>PrevAVGCost</th>\n",
              "      <th>PrevAssignedCost</th>\n",
              "      <th>AVGCost</th>\n",
              "      <th>LatestDateCost</th>\n",
              "      <th>A</th>\n",
              "      <th>B</th>\n",
              "      <th>C</th>\n",
              "      <th>D</th>\n",
              "      <th>E</th>\n",
              "      <th>F</th>\n",
              "      <th>G</th>\n",
              "      <th>GenPrice</th>\n",
              "    </tr>\n",
              "  </thead>\n",
              "  <tbody>\n",
              "    <tr>\n",
              "      <th>1388</th>\n",
              "      <td>37.797297</td>\n",
              "      <td>32.0</td>\n",
              "      <td>41.108108</td>\n",
              "      <td>39.405405</td>\n",
              "      <td>1</td>\n",
              "      <td>0</td>\n",
              "      <td>0</td>\n",
              "      <td>0</td>\n",
              "      <td>0</td>\n",
              "      <td>0</td>\n",
              "      <td>0</td>\n",
              "      <td>55.0</td>\n",
              "    </tr>\n",
              "    <tr>\n",
              "      <th>23997</th>\n",
              "      <td>12.121212</td>\n",
              "      <td>66.0</td>\n",
              "      <td>10.101010</td>\n",
              "      <td>10.101010</td>\n",
              "      <td>1</td>\n",
              "      <td>0</td>\n",
              "      <td>0</td>\n",
              "      <td>0</td>\n",
              "      <td>0</td>\n",
              "      <td>0</td>\n",
              "      <td>0</td>\n",
              "      <td>95.0</td>\n",
              "    </tr>\n",
              "    <tr>\n",
              "      <th>19402</th>\n",
              "      <td>0.000000</td>\n",
              "      <td>49.0</td>\n",
              "      <td>0.000000</td>\n",
              "      <td>0.000000</td>\n",
              "      <td>0</td>\n",
              "      <td>1</td>\n",
              "      <td>0</td>\n",
              "      <td>0</td>\n",
              "      <td>0</td>\n",
              "      <td>0</td>\n",
              "      <td>0</td>\n",
              "      <td>70.0</td>\n",
              "    </tr>\n",
              "    <tr>\n",
              "      <th>16365</th>\n",
              "      <td>31.565657</td>\n",
              "      <td>32.0</td>\n",
              "      <td>33.131313</td>\n",
              "      <td>31.242424</td>\n",
              "      <td>1</td>\n",
              "      <td>0</td>\n",
              "      <td>0</td>\n",
              "      <td>0</td>\n",
              "      <td>0</td>\n",
              "      <td>0</td>\n",
              "      <td>0</td>\n",
              "      <td>46.0</td>\n",
              "    </tr>\n",
              "    <tr>\n",
              "      <th>8684</th>\n",
              "      <td>48.265306</td>\n",
              "      <td>80.0</td>\n",
              "      <td>73.200000</td>\n",
              "      <td>73.810526</td>\n",
              "      <td>1</td>\n",
              "      <td>0</td>\n",
              "      <td>0</td>\n",
              "      <td>0</td>\n",
              "      <td>0</td>\n",
              "      <td>0</td>\n",
              "      <td>0</td>\n",
              "      <td>117.0</td>\n",
              "    </tr>\n",
              "  </tbody>\n",
              "</table>\n",
              "</div>"
            ],
            "text/plain": [
              "       PrevAVGCost  PrevAssignedCost    AVGCost  ...  F  G  GenPrice\n",
              "1388     37.797297              32.0  41.108108  ...  0  0      55.0\n",
              "23997    12.121212              66.0  10.101010  ...  0  0      95.0\n",
              "19402     0.000000              49.0   0.000000  ...  0  0      70.0\n",
              "16365    31.565657              32.0  33.131313  ...  0  0      46.0\n",
              "8684     48.265306              80.0  73.200000  ...  0  0     117.0\n",
              "\n",
              "[5 rows x 12 columns]"
            ]
          },
          "metadata": {
            "tags": []
          },
          "execution_count": 44
        }
      ]
    },
    {
      "cell_type": "markdown",
      "metadata": {
        "id": "hBqUxWarkrPy",
        "colab_type": "text"
      },
      "source": [
        "#ตรวจความเเม่นยำของโมเดล(r-square)"
      ]
    },
    {
      "cell_type": "code",
      "metadata": {
        "id": "VU7N72ywkwmY",
        "colab_type": "code",
        "outputId": "71499d9a-6dd5-460b-fd20-e007c0690213",
        "colab": {
          "base_uri": "https://localhost:8080/",
          "height": 53
        }
      },
      "source": [
        "print(\"Train set accuracy = \" + str(lm.score(X_train, y_train)))\n",
        "print(\"Test set accuracy = \" + str(lm.score(X_test, y_test)))"
      ],
      "execution_count": 45,
      "outputs": [
        {
          "output_type": "stream",
          "text": [
            "Train set accuracy = 0.9725588267739508\n",
            "Test set accuracy = 0.9750019494397023\n"
          ],
          "name": "stdout"
        }
      ]
    },
    {
      "cell_type": "markdown",
      "metadata": {
        "id": "z9UgeHaXm6qA",
        "colab_type": "text"
      },
      "source": [
        "# Predictions from our Model"
      ]
    },
    {
      "cell_type": "code",
      "metadata": {
        "id": "CTql6fq4kOdZ",
        "colab_type": "code",
        "outputId": "7752f01f-fb23-40ce-efb2-c77e76394e96",
        "colab": {
          "base_uri": "https://localhost:8080/",
          "height": 53
        }
      },
      "source": [
        "pred = lm.predict(X_test)\n",
        "pred"
      ],
      "execution_count": 46,
      "outputs": [
        {
          "output_type": "execute_result",
          "data": {
            "text/plain": [
              "array([  3.35816323,  97.94645911,  48.97443515, ...,  27.70912561,\n",
              "        73.59473317, 112.8769269 ])"
            ]
          },
          "metadata": {
            "tags": []
          },
          "execution_count": 46
        }
      ]
    },
    {
      "cell_type": "code",
      "metadata": {
        "id": "xOEUxLLGhpWd",
        "colab_type": "code",
        "outputId": "d8cd7ef0-d5f8-4446-b487-6028faf6fe5d",
        "colab": {
          "base_uri": "https://localhost:8080/",
          "height": 355
        }
      },
      "source": [
        "test=pd.concat([X_test,y_test],axis='columns')\n",
        "test.head(10)"
      ],
      "execution_count": 47,
      "outputs": [
        {
          "output_type": "execute_result",
          "data": {
            "text/html": [
              "<div>\n",
              "<style scoped>\n",
              "    .dataframe tbody tr th:only-of-type {\n",
              "        vertical-align: middle;\n",
              "    }\n",
              "\n",
              "    .dataframe tbody tr th {\n",
              "        vertical-align: top;\n",
              "    }\n",
              "\n",
              "    .dataframe thead th {\n",
              "        text-align: right;\n",
              "    }\n",
              "</style>\n",
              "<table border=\"1\" class=\"dataframe\">\n",
              "  <thead>\n",
              "    <tr style=\"text-align: right;\">\n",
              "      <th></th>\n",
              "      <th>PrevAVGCost</th>\n",
              "      <th>PrevAssignedCost</th>\n",
              "      <th>AVGCost</th>\n",
              "      <th>LatestDateCost</th>\n",
              "      <th>A</th>\n",
              "      <th>B</th>\n",
              "      <th>C</th>\n",
              "      <th>D</th>\n",
              "      <th>E</th>\n",
              "      <th>F</th>\n",
              "      <th>G</th>\n",
              "      <th>GenPrice</th>\n",
              "    </tr>\n",
              "  </thead>\n",
              "  <tbody>\n",
              "    <tr>\n",
              "      <th>2191</th>\n",
              "      <td>1.606061</td>\n",
              "      <td>2.000000</td>\n",
              "      <td>1.898990</td>\n",
              "      <td>1.262626</td>\n",
              "      <td>0</td>\n",
              "      <td>0</td>\n",
              "      <td>0</td>\n",
              "      <td>0</td>\n",
              "      <td>1</td>\n",
              "      <td>0</td>\n",
              "      <td>0</td>\n",
              "      <td>3.0</td>\n",
              "    </tr>\n",
              "    <tr>\n",
              "      <th>6931</th>\n",
              "      <td>54.656566</td>\n",
              "      <td>72.000000</td>\n",
              "      <td>54.656566</td>\n",
              "      <td>54.656566</td>\n",
              "      <td>1</td>\n",
              "      <td>0</td>\n",
              "      <td>0</td>\n",
              "      <td>0</td>\n",
              "      <td>0</td>\n",
              "      <td>0</td>\n",
              "      <td>0</td>\n",
              "      <td>79.0</td>\n",
              "    </tr>\n",
              "    <tr>\n",
              "      <th>14279</th>\n",
              "      <td>33.648936</td>\n",
              "      <td>35.000000</td>\n",
              "      <td>20.840426</td>\n",
              "      <td>21.574468</td>\n",
              "      <td>1</td>\n",
              "      <td>0</td>\n",
              "      <td>0</td>\n",
              "      <td>0</td>\n",
              "      <td>0</td>\n",
              "      <td>0</td>\n",
              "      <td>0</td>\n",
              "      <td>38.0</td>\n",
              "    </tr>\n",
              "    <tr>\n",
              "      <th>14618</th>\n",
              "      <td>0.000000</td>\n",
              "      <td>0.000000</td>\n",
              "      <td>24.555556</td>\n",
              "      <td>25.424242</td>\n",
              "      <td>1</td>\n",
              "      <td>0</td>\n",
              "      <td>0</td>\n",
              "      <td>0</td>\n",
              "      <td>0</td>\n",
              "      <td>0</td>\n",
              "      <td>0</td>\n",
              "      <td>37.0</td>\n",
              "    </tr>\n",
              "    <tr>\n",
              "      <th>15260</th>\n",
              "      <td>12.580645</td>\n",
              "      <td>13.000000</td>\n",
              "      <td>11.849462</td>\n",
              "      <td>10.451613</td>\n",
              "      <td>1</td>\n",
              "      <td>0</td>\n",
              "      <td>0</td>\n",
              "      <td>0</td>\n",
              "      <td>0</td>\n",
              "      <td>0</td>\n",
              "      <td>0</td>\n",
              "      <td>22.0</td>\n",
              "    </tr>\n",
              "    <tr>\n",
              "      <th>8095</th>\n",
              "      <td>0.000000</td>\n",
              "      <td>86.000000</td>\n",
              "      <td>0.000000</td>\n",
              "      <td>0.000000</td>\n",
              "      <td>0</td>\n",
              "      <td>0</td>\n",
              "      <td>1</td>\n",
              "      <td>0</td>\n",
              "      <td>0</td>\n",
              "      <td>0</td>\n",
              "      <td>0</td>\n",
              "      <td>136.0</td>\n",
              "    </tr>\n",
              "    <tr>\n",
              "      <th>22371</th>\n",
              "      <td>52.787879</td>\n",
              "      <td>54.000000</td>\n",
              "      <td>36.151515</td>\n",
              "      <td>27.676768</td>\n",
              "      <td>1</td>\n",
              "      <td>0</td>\n",
              "      <td>0</td>\n",
              "      <td>0</td>\n",
              "      <td>0</td>\n",
              "      <td>0</td>\n",
              "      <td>0</td>\n",
              "      <td>59.0</td>\n",
              "    </tr>\n",
              "    <tr>\n",
              "      <th>10980</th>\n",
              "      <td>0.000000</td>\n",
              "      <td>200.000000</td>\n",
              "      <td>212.373737</td>\n",
              "      <td>0.000000</td>\n",
              "      <td>0</td>\n",
              "      <td>0</td>\n",
              "      <td>0</td>\n",
              "      <td>0</td>\n",
              "      <td>0</td>\n",
              "      <td>0</td>\n",
              "      <td>1</td>\n",
              "      <td>275.0</td>\n",
              "    </tr>\n",
              "    <tr>\n",
              "      <th>9997</th>\n",
              "      <td>38.282828</td>\n",
              "      <td>48.919192</td>\n",
              "      <td>39.767677</td>\n",
              "      <td>39.666667</td>\n",
              "      <td>0</td>\n",
              "      <td>0</td>\n",
              "      <td>0</td>\n",
              "      <td>0</td>\n",
              "      <td>0</td>\n",
              "      <td>0</td>\n",
              "      <td>1</td>\n",
              "      <td>65.0</td>\n",
              "    </tr>\n",
              "    <tr>\n",
              "      <th>23062</th>\n",
              "      <td>38.202020</td>\n",
              "      <td>60.000000</td>\n",
              "      <td>90.909091</td>\n",
              "      <td>90.909091</td>\n",
              "      <td>0</td>\n",
              "      <td>1</td>\n",
              "      <td>0</td>\n",
              "      <td>0</td>\n",
              "      <td>0</td>\n",
              "      <td>0</td>\n",
              "      <td>0</td>\n",
              "      <td>100.0</td>\n",
              "    </tr>\n",
              "  </tbody>\n",
              "</table>\n",
              "</div>"
            ],
            "text/plain": [
              "       PrevAVGCost  PrevAssignedCost     AVGCost  ...  F  G  GenPrice\n",
              "2191      1.606061          2.000000    1.898990  ...  0  0       3.0\n",
              "6931     54.656566         72.000000   54.656566  ...  0  0      79.0\n",
              "14279    33.648936         35.000000   20.840426  ...  0  0      38.0\n",
              "14618     0.000000          0.000000   24.555556  ...  0  0      37.0\n",
              "15260    12.580645         13.000000   11.849462  ...  0  0      22.0\n",
              "8095      0.000000         86.000000    0.000000  ...  0  0     136.0\n",
              "22371    52.787879         54.000000   36.151515  ...  0  0      59.0\n",
              "10980     0.000000        200.000000  212.373737  ...  0  1     275.0\n",
              "9997     38.282828         48.919192   39.767677  ...  0  1      65.0\n",
              "23062    38.202020         60.000000   90.909091  ...  0  0     100.0\n",
              "\n",
              "[10 rows x 12 columns]"
            ]
          },
          "metadata": {
            "tags": []
          },
          "execution_count": 47
        }
      ]
    },
    {
      "cell_type": "markdown",
      "metadata": {
        "id": "XHcf3jcQjNvt",
        "colab_type": "text"
      },
      "source": [
        "เปรียบเทียบราคาตั้งกับที่ทำนายได้"
      ]
    },
    {
      "cell_type": "code",
      "metadata": {
        "id": "v7zHQ15BicLD",
        "colab_type": "code",
        "outputId": "368c41e3-b4c6-4a7f-fb4f-9ae055c237dd",
        "colab": {
          "base_uri": "https://localhost:8080/",
          "height": 202
        }
      },
      "source": [
        "dt=pd.concat([test.reset_index(),pd.Series(pred,name='predicted')],axis='columns').round(2)\n",
        "dt.head()"
      ],
      "execution_count": 48,
      "outputs": [
        {
          "output_type": "execute_result",
          "data": {
            "text/html": [
              "<div>\n",
              "<style scoped>\n",
              "    .dataframe tbody tr th:only-of-type {\n",
              "        vertical-align: middle;\n",
              "    }\n",
              "\n",
              "    .dataframe tbody tr th {\n",
              "        vertical-align: top;\n",
              "    }\n",
              "\n",
              "    .dataframe thead th {\n",
              "        text-align: right;\n",
              "    }\n",
              "</style>\n",
              "<table border=\"1\" class=\"dataframe\">\n",
              "  <thead>\n",
              "    <tr style=\"text-align: right;\">\n",
              "      <th></th>\n",
              "      <th>index</th>\n",
              "      <th>PrevAVGCost</th>\n",
              "      <th>PrevAssignedCost</th>\n",
              "      <th>AVGCost</th>\n",
              "      <th>LatestDateCost</th>\n",
              "      <th>A</th>\n",
              "      <th>B</th>\n",
              "      <th>C</th>\n",
              "      <th>D</th>\n",
              "      <th>E</th>\n",
              "      <th>F</th>\n",
              "      <th>G</th>\n",
              "      <th>GenPrice</th>\n",
              "      <th>predicted</th>\n",
              "    </tr>\n",
              "  </thead>\n",
              "  <tbody>\n",
              "    <tr>\n",
              "      <th>0</th>\n",
              "      <td>2191</td>\n",
              "      <td>1.61</td>\n",
              "      <td>2.0</td>\n",
              "      <td>1.90</td>\n",
              "      <td>1.26</td>\n",
              "      <td>0</td>\n",
              "      <td>0</td>\n",
              "      <td>0</td>\n",
              "      <td>0</td>\n",
              "      <td>1</td>\n",
              "      <td>0</td>\n",
              "      <td>0</td>\n",
              "      <td>3.0</td>\n",
              "      <td>3.36</td>\n",
              "    </tr>\n",
              "    <tr>\n",
              "      <th>1</th>\n",
              "      <td>6931</td>\n",
              "      <td>54.66</td>\n",
              "      <td>72.0</td>\n",
              "      <td>54.66</td>\n",
              "      <td>54.66</td>\n",
              "      <td>1</td>\n",
              "      <td>0</td>\n",
              "      <td>0</td>\n",
              "      <td>0</td>\n",
              "      <td>0</td>\n",
              "      <td>0</td>\n",
              "      <td>0</td>\n",
              "      <td>79.0</td>\n",
              "      <td>97.95</td>\n",
              "    </tr>\n",
              "    <tr>\n",
              "      <th>2</th>\n",
              "      <td>14279</td>\n",
              "      <td>33.65</td>\n",
              "      <td>35.0</td>\n",
              "      <td>20.84</td>\n",
              "      <td>21.57</td>\n",
              "      <td>1</td>\n",
              "      <td>0</td>\n",
              "      <td>0</td>\n",
              "      <td>0</td>\n",
              "      <td>0</td>\n",
              "      <td>0</td>\n",
              "      <td>0</td>\n",
              "      <td>38.0</td>\n",
              "      <td>48.97</td>\n",
              "    </tr>\n",
              "    <tr>\n",
              "      <th>3</th>\n",
              "      <td>14618</td>\n",
              "      <td>0.00</td>\n",
              "      <td>0.0</td>\n",
              "      <td>24.56</td>\n",
              "      <td>25.42</td>\n",
              "      <td>1</td>\n",
              "      <td>0</td>\n",
              "      <td>0</td>\n",
              "      <td>0</td>\n",
              "      <td>0</td>\n",
              "      <td>0</td>\n",
              "      <td>0</td>\n",
              "      <td>37.0</td>\n",
              "      <td>11.87</td>\n",
              "    </tr>\n",
              "    <tr>\n",
              "      <th>4</th>\n",
              "      <td>15260</td>\n",
              "      <td>12.58</td>\n",
              "      <td>13.0</td>\n",
              "      <td>11.85</td>\n",
              "      <td>10.45</td>\n",
              "      <td>1</td>\n",
              "      <td>0</td>\n",
              "      <td>0</td>\n",
              "      <td>0</td>\n",
              "      <td>0</td>\n",
              "      <td>0</td>\n",
              "      <td>0</td>\n",
              "      <td>22.0</td>\n",
              "      <td>23.54</td>\n",
              "    </tr>\n",
              "  </tbody>\n",
              "</table>\n",
              "</div>"
            ],
            "text/plain": [
              "   index  PrevAVGCost  PrevAssignedCost  AVGCost  ...  F  G  GenPrice  predicted\n",
              "0   2191         1.61               2.0     1.90  ...  0  0       3.0       3.36\n",
              "1   6931        54.66              72.0    54.66  ...  0  0      79.0      97.95\n",
              "2  14279        33.65              35.0    20.84  ...  0  0      38.0      48.97\n",
              "3  14618         0.00               0.0    24.56  ...  0  0      37.0      11.87\n",
              "4  15260        12.58              13.0    11.85  ...  0  0      22.0      23.54\n",
              "\n",
              "[5 rows x 14 columns]"
            ]
          },
          "metadata": {
            "tags": []
          },
          "execution_count": 48
        }
      ]
    },
    {
      "cell_type": "code",
      "metadata": {
        "id": "kH85jdHOja9e",
        "colab_type": "code",
        "outputId": "5701cc7e-bf4d-4821-90ee-4936b73f5a39",
        "colab": {
          "base_uri": "https://localhost:8080/",
          "height": 498
        }
      },
      "source": [
        "dt.corr()"
      ],
      "execution_count": 49,
      "outputs": [
        {
          "output_type": "execute_result",
          "data": {
            "text/html": [
              "<div>\n",
              "<style scoped>\n",
              "    .dataframe tbody tr th:only-of-type {\n",
              "        vertical-align: middle;\n",
              "    }\n",
              "\n",
              "    .dataframe tbody tr th {\n",
              "        vertical-align: top;\n",
              "    }\n",
              "\n",
              "    .dataframe thead th {\n",
              "        text-align: right;\n",
              "    }\n",
              "</style>\n",
              "<table border=\"1\" class=\"dataframe\">\n",
              "  <thead>\n",
              "    <tr style=\"text-align: right;\">\n",
              "      <th></th>\n",
              "      <th>index</th>\n",
              "      <th>PrevAVGCost</th>\n",
              "      <th>PrevAssignedCost</th>\n",
              "      <th>AVGCost</th>\n",
              "      <th>LatestDateCost</th>\n",
              "      <th>A</th>\n",
              "      <th>B</th>\n",
              "      <th>C</th>\n",
              "      <th>D</th>\n",
              "      <th>E</th>\n",
              "      <th>F</th>\n",
              "      <th>G</th>\n",
              "      <th>GenPrice</th>\n",
              "      <th>predicted</th>\n",
              "    </tr>\n",
              "  </thead>\n",
              "  <tbody>\n",
              "    <tr>\n",
              "      <th>index</th>\n",
              "      <td>1.000000</td>\n",
              "      <td>-0.002453</td>\n",
              "      <td>-0.001860</td>\n",
              "      <td>0.001231</td>\n",
              "      <td>0.022813</td>\n",
              "      <td>0.013648</td>\n",
              "      <td>-0.000058</td>\n",
              "      <td>-0.013505</td>\n",
              "      <td>-0.003767</td>\n",
              "      <td>-0.017326</td>\n",
              "      <td>0.008995</td>\n",
              "      <td>-0.000252</td>\n",
              "      <td>0.003179</td>\n",
              "      <td>-0.001441</td>\n",
              "    </tr>\n",
              "    <tr>\n",
              "      <th>PrevAVGCost</th>\n",
              "      <td>-0.002453</td>\n",
              "      <td>1.000000</td>\n",
              "      <td>0.493075</td>\n",
              "      <td>0.802466</td>\n",
              "      <td>0.775300</td>\n",
              "      <td>-0.039501</td>\n",
              "      <td>0.108679</td>\n",
              "      <td>0.115617</td>\n",
              "      <td>-0.059877</td>\n",
              "      <td>-0.084436</td>\n",
              "      <td>0.098514</td>\n",
              "      <td>-0.092291</td>\n",
              "      <td>0.470428</td>\n",
              "      <td>0.466650</td>\n",
              "    </tr>\n",
              "    <tr>\n",
              "      <th>PrevAssignedCost</th>\n",
              "      <td>-0.001860</td>\n",
              "      <td>0.493075</td>\n",
              "      <td>1.000000</td>\n",
              "      <td>0.457898</td>\n",
              "      <td>0.407555</td>\n",
              "      <td>-0.135574</td>\n",
              "      <td>0.084299</td>\n",
              "      <td>0.183544</td>\n",
              "      <td>-0.072856</td>\n",
              "      <td>-0.097004</td>\n",
              "      <td>0.041624</td>\n",
              "      <td>-0.005578</td>\n",
              "      <td>0.986355</td>\n",
              "      <td>0.997721</td>\n",
              "    </tr>\n",
              "    <tr>\n",
              "      <th>AVGCost</th>\n",
              "      <td>0.001231</td>\n",
              "      <td>0.802466</td>\n",
              "      <td>0.457898</td>\n",
              "      <td>1.000000</td>\n",
              "      <td>0.893623</td>\n",
              "      <td>-0.032047</td>\n",
              "      <td>0.098600</td>\n",
              "      <td>0.114567</td>\n",
              "      <td>-0.060629</td>\n",
              "      <td>-0.085404</td>\n",
              "      <td>0.098176</td>\n",
              "      <td>-0.093951</td>\n",
              "      <td>0.462700</td>\n",
              "      <td>0.469195</td>\n",
              "    </tr>\n",
              "    <tr>\n",
              "      <th>LatestDateCost</th>\n",
              "      <td>0.022813</td>\n",
              "      <td>0.775300</td>\n",
              "      <td>0.407555</td>\n",
              "      <td>0.893623</td>\n",
              "      <td>1.000000</td>\n",
              "      <td>-0.016375</td>\n",
              "      <td>0.104766</td>\n",
              "      <td>0.130543</td>\n",
              "      <td>-0.058912</td>\n",
              "      <td>-0.083299</td>\n",
              "      <td>0.098630</td>\n",
              "      <td>-0.130491</td>\n",
              "      <td>0.413160</td>\n",
              "      <td>0.414645</td>\n",
              "    </tr>\n",
              "    <tr>\n",
              "      <th>A</th>\n",
              "      <td>0.013648</td>\n",
              "      <td>-0.039501</td>\n",
              "      <td>-0.135574</td>\n",
              "      <td>-0.032047</td>\n",
              "      <td>-0.016375</td>\n",
              "      <td>1.000000</td>\n",
              "      <td>-0.260833</td>\n",
              "      <td>-0.438155</td>\n",
              "      <td>-0.109834</td>\n",
              "      <td>-0.129919</td>\n",
              "      <td>-0.085389</td>\n",
              "      <td>-0.572938</td>\n",
              "      <td>-0.141683</td>\n",
              "      <td>-0.148121</td>\n",
              "    </tr>\n",
              "    <tr>\n",
              "      <th>B</th>\n",
              "      <td>-0.000058</td>\n",
              "      <td>0.108679</td>\n",
              "      <td>0.084299</td>\n",
              "      <td>0.098600</td>\n",
              "      <td>0.104766</td>\n",
              "      <td>-0.260833</td>\n",
              "      <td>1.000000</td>\n",
              "      <td>-0.108938</td>\n",
              "      <td>-0.027308</td>\n",
              "      <td>-0.032302</td>\n",
              "      <td>-0.021230</td>\n",
              "      <td>-0.142449</td>\n",
              "      <td>0.079039</td>\n",
              "      <td>0.079300</td>\n",
              "    </tr>\n",
              "    <tr>\n",
              "      <th>C</th>\n",
              "      <td>-0.013505</td>\n",
              "      <td>0.115617</td>\n",
              "      <td>0.183544</td>\n",
              "      <td>0.114567</td>\n",
              "      <td>0.130543</td>\n",
              "      <td>-0.438155</td>\n",
              "      <td>-0.108938</td>\n",
              "      <td>1.000000</td>\n",
              "      <td>-0.045872</td>\n",
              "      <td>-0.054261</td>\n",
              "      <td>-0.035663</td>\n",
              "      <td>-0.239290</td>\n",
              "      <td>0.200739</td>\n",
              "      <td>0.209639</td>\n",
              "    </tr>\n",
              "    <tr>\n",
              "      <th>D</th>\n",
              "      <td>-0.003767</td>\n",
              "      <td>-0.059877</td>\n",
              "      <td>-0.072856</td>\n",
              "      <td>-0.060629</td>\n",
              "      <td>-0.058912</td>\n",
              "      <td>-0.109834</td>\n",
              "      <td>-0.027308</td>\n",
              "      <td>-0.045872</td>\n",
              "      <td>1.000000</td>\n",
              "      <td>-0.013602</td>\n",
              "      <td>-0.008940</td>\n",
              "      <td>-0.059984</td>\n",
              "      <td>-0.077627</td>\n",
              "      <td>-0.078516</td>\n",
              "    </tr>\n",
              "    <tr>\n",
              "      <th>E</th>\n",
              "      <td>-0.017326</td>\n",
              "      <td>-0.084436</td>\n",
              "      <td>-0.097004</td>\n",
              "      <td>-0.085404</td>\n",
              "      <td>-0.083299</td>\n",
              "      <td>-0.129919</td>\n",
              "      <td>-0.032302</td>\n",
              "      <td>-0.054261</td>\n",
              "      <td>-0.013602</td>\n",
              "      <td>1.000000</td>\n",
              "      <td>-0.010575</td>\n",
              "      <td>-0.070953</td>\n",
              "      <td>-0.104755</td>\n",
              "      <td>-0.105723</td>\n",
              "    </tr>\n",
              "    <tr>\n",
              "      <th>F</th>\n",
              "      <td>0.008995</td>\n",
              "      <td>0.098514</td>\n",
              "      <td>0.041624</td>\n",
              "      <td>0.098176</td>\n",
              "      <td>0.098630</td>\n",
              "      <td>-0.085389</td>\n",
              "      <td>-0.021230</td>\n",
              "      <td>-0.035663</td>\n",
              "      <td>-0.008940</td>\n",
              "      <td>-0.010575</td>\n",
              "      <td>1.000000</td>\n",
              "      <td>-0.046634</td>\n",
              "      <td>0.042077</td>\n",
              "      <td>0.041504</td>\n",
              "    </tr>\n",
              "    <tr>\n",
              "      <th>G</th>\n",
              "      <td>-0.000252</td>\n",
              "      <td>-0.092291</td>\n",
              "      <td>-0.005578</td>\n",
              "      <td>-0.093951</td>\n",
              "      <td>-0.130491</td>\n",
              "      <td>-0.572938</td>\n",
              "      <td>-0.142449</td>\n",
              "      <td>-0.239290</td>\n",
              "      <td>-0.059984</td>\n",
              "      <td>-0.070953</td>\n",
              "      <td>-0.046634</td>\n",
              "      <td>1.000000</td>\n",
              "      <td>-0.006682</td>\n",
              "      <td>-0.006213</td>\n",
              "    </tr>\n",
              "    <tr>\n",
              "      <th>GenPrice</th>\n",
              "      <td>0.003179</td>\n",
              "      <td>0.470428</td>\n",
              "      <td>0.986355</td>\n",
              "      <td>0.462700</td>\n",
              "      <td>0.413160</td>\n",
              "      <td>-0.141683</td>\n",
              "      <td>0.079039</td>\n",
              "      <td>0.200739</td>\n",
              "      <td>-0.077627</td>\n",
              "      <td>-0.104755</td>\n",
              "      <td>0.042077</td>\n",
              "      <td>-0.006682</td>\n",
              "      <td>1.000000</td>\n",
              "      <td>0.987426</td>\n",
              "    </tr>\n",
              "    <tr>\n",
              "      <th>predicted</th>\n",
              "      <td>-0.001441</td>\n",
              "      <td>0.466650</td>\n",
              "      <td>0.997721</td>\n",
              "      <td>0.469195</td>\n",
              "      <td>0.414645</td>\n",
              "      <td>-0.148121</td>\n",
              "      <td>0.079300</td>\n",
              "      <td>0.209639</td>\n",
              "      <td>-0.078516</td>\n",
              "      <td>-0.105723</td>\n",
              "      <td>0.041504</td>\n",
              "      <td>-0.006213</td>\n",
              "      <td>0.987426</td>\n",
              "      <td>1.000000</td>\n",
              "    </tr>\n",
              "  </tbody>\n",
              "</table>\n",
              "</div>"
            ],
            "text/plain": [
              "                     index  PrevAVGCost  ...  GenPrice  predicted\n",
              "index             1.000000    -0.002453  ...  0.003179  -0.001441\n",
              "PrevAVGCost      -0.002453     1.000000  ...  0.470428   0.466650\n",
              "PrevAssignedCost -0.001860     0.493075  ...  0.986355   0.997721\n",
              "AVGCost           0.001231     0.802466  ...  0.462700   0.469195\n",
              "LatestDateCost    0.022813     0.775300  ...  0.413160   0.414645\n",
              "A                 0.013648    -0.039501  ... -0.141683  -0.148121\n",
              "B                -0.000058     0.108679  ...  0.079039   0.079300\n",
              "C                -0.013505     0.115617  ...  0.200739   0.209639\n",
              "D                -0.003767    -0.059877  ... -0.077627  -0.078516\n",
              "E                -0.017326    -0.084436  ... -0.104755  -0.105723\n",
              "F                 0.008995     0.098514  ...  0.042077   0.041504\n",
              "G                -0.000252    -0.092291  ... -0.006682  -0.006213\n",
              "GenPrice          0.003179     0.470428  ...  1.000000   0.987426\n",
              "predicted        -0.001441     0.466650  ...  0.987426   1.000000\n",
              "\n",
              "[14 rows x 14 columns]"
            ]
          },
          "metadata": {
            "tags": []
          },
          "execution_count": 49
        }
      ]
    },
    {
      "cell_type": "code",
      "metadata": {
        "id": "J_uYdysbgJRf",
        "colab_type": "code",
        "outputId": "4bb0e41b-d55d-4b47-9a25-29a7183f76e7",
        "colab": {
          "base_uri": "https://localhost:8080/",
          "height": 35
        }
      },
      "source": [
        "lm.score(X_test,y_test)"
      ],
      "execution_count": 50,
      "outputs": [
        {
          "output_type": "execute_result",
          "data": {
            "text/plain": [
              "0.9750019494397023"
            ]
          },
          "metadata": {
            "tags": []
          },
          "execution_count": 50
        }
      ]
    },
    {
      "cell_type": "markdown",
      "metadata": {
        "id": "WEG3iF5InpGg",
        "colab_type": "text"
      },
      "source": [
        "#MSE"
      ]
    },
    {
      "cell_type": "code",
      "metadata": {
        "id": "xa9wo_ysnuzR",
        "colab_type": "code",
        "colab": {}
      },
      "source": [
        "from sklearn import metrics"
      ],
      "execution_count": 0,
      "outputs": []
    },
    {
      "cell_type": "code",
      "metadata": {
        "id": "VmekejfHnxLZ",
        "colab_type": "code",
        "outputId": "ef3c15ae-dbf9-4b1d-c0e0-89873479fc47",
        "colab": {
          "base_uri": "https://localhost:8080/",
          "height": 35
        }
      },
      "source": [
        "print('MSE:', metrics.mean_squared_error(y_test, pred))"
      ],
      "execution_count": 52,
      "outputs": [
        {
          "output_type": "stream",
          "text": [
            "MSE: 287.93842308024904\n"
          ],
          "name": "stdout"
        }
      ]
    },
    {
      "cell_type": "markdown",
      "metadata": {
        "id": "DFqo-Egpn4jW",
        "colab_type": "text"
      },
      "source": [
        "#MAPE"
      ]
    },
    {
      "cell_type": "code",
      "metadata": {
        "id": "asTwVT91n8pI",
        "colab_type": "code",
        "colab": {}
      },
      "source": [
        "def mean_absolute_percentage_error(y_true, y_pred): \n",
        "    y_true, y_pred = np.array(y_true), np.array(y_pred)\n",
        "    return np.mean(np.abs((y_true - y_pred) / y_true)) * 100"
      ],
      "execution_count": 0,
      "outputs": []
    },
    {
      "cell_type": "code",
      "metadata": {
        "id": "b-U8NOThyeMT",
        "colab_type": "code",
        "outputId": "5f8fd087-270c-41f7-a145-fdcc282483ea",
        "colab": {
          "base_uri": "https://localhost:8080/",
          "height": 35
        }
      },
      "source": [
        "print('MAPE:', mean_absolute_percentage_error(y_test, pred))"
      ],
      "execution_count": 54,
      "outputs": [
        {
          "output_type": "stream",
          "text": [
            "MAPE: 10.206384096875988\n"
          ],
          "name": "stdout"
        }
      ]
    },
    {
      "cell_type": "code",
      "metadata": {
        "id": "PkAPh-Z6y-3L",
        "colab_type": "code",
        "outputId": "199540c8-263f-47bd-935a-1fed85f57d43",
        "colab": {
          "base_uri": "https://localhost:8080/",
          "height": 279
        }
      },
      "source": [
        "import matplotlib.pyplot as plt\n",
        "plt.plot([i for i in range(len(pred))], pred, color='r')\n",
        "#plt.scatter([i for i in range(len(pred))],sorted(pred),color='r')\n",
        "plt.scatter([i for i in range(len(pred))],y_test,color='b')\n",
        "plt.ylabel('price')\n",
        "plt.xlabel('index')\n",
        "plt.legend(['pred', 'dev'], loc='best')\n",
        "plt.show()"
      ],
      "execution_count": 55,
      "outputs": [
        {
          "output_type": "display_data",
          "data": {
            "image/png": "[encoded data removed]",
            "text/plain": [
              "<Figure size 432x288 with 1 Axes>"
            ]
          },
          "metadata": {
            "tags": [],
            "needs_background": "light"
          }
        }
      ]
    },
    {
      "cell_type": "markdown",
      "metadata": {
        "id": "Ubizw13Me7de",
        "colab_type": "text"
      },
      "source": [
        "#dump(save) &load model with joblib"
      ]
    },
    {
      "cell_type": "code",
      "metadata": {
        "id": "tyizmBM4fDLB",
        "colab_type": "code",
        "outputId": "516ce758-c7f8-4586-9f6c-10d76d5cfd2d",
        "colab": {
          "base_uri": "https://localhost:8080/",
          "height": 35
        }
      },
      "source": [
        "from sklearn.externals import joblib\n",
        "joblib.dump(lm,'Genprice.joblib')"
      ],
      "execution_count": 56,
      "outputs": [
        {
          "output_type": "execute_result",
          "data": {
            "text/plain": [
              "['Genprice.joblib']"
            ]
          },
          "metadata": {
            "tags": []
          },
          "execution_count": 56
        }
      ]
    },
    {
      "cell_type": "code",
      "metadata": {
        "id": "bQJnuymE13fC",
        "colab_type": "code",
        "colab": {}
      },
      "source": [
        "lr=joblib.load('Genprice.joblib')"
      ],
      "execution_count": 0,
      "outputs": []
    },
    {
      "cell_type": "code",
      "metadata": {
        "id": "Lj1x3q4KgJMQ",
        "colab_type": "code",
        "outputId": "569ff598-69df-44ec-8bed-dbcdac315bd1",
        "colab": {
          "base_uri": "https://localhost:8080/",
          "height": 35
        }
      },
      "source": [
        "lr"
      ],
      "execution_count": 58,
      "outputs": [
        {
          "output_type": "execute_result",
          "data": {
            "text/plain": [
              "LinearRegression(copy_X=True, fit_intercept=True, n_jobs=None, normalize=False)"
            ]
          },
          "metadata": {
            "tags": []
          },
          "execution_count": 58
        }
      ]
    },
    {
      "cell_type": "code",
      "metadata": {
        "id": "31KW7wFBgPOK",
        "colab_type": "code",
        "outputId": "65c15b22-a779-4c49-be2b-145b1c6ec711",
        "colab": {
          "base_uri": "https://localhost:8080/",
          "height": 35
        }
      },
      "source": [
        "lr.intercept_"
      ],
      "execution_count": 59,
      "outputs": [
        {
          "output_type": "execute_result",
          "data": {
            "text/plain": [
              "7.558824448884792"
            ]
          },
          "metadata": {
            "tags": []
          },
          "execution_count": 59
        }
      ]
    },
    {
      "cell_type": "code",
      "metadata": {
        "id": "gkCqgXaQgJ9J",
        "colab_type": "code",
        "outputId": "9aec3921-8cc1-4ca9-eb6e-19d43e7c98f9",
        "colab": {
          "base_uri": "https://localhost:8080/",
          "height": 71
        }
      },
      "source": [
        "lr.coef_"
      ],
      "execution_count": 60,
      "outputs": [
        {
          "output_type": "execute_result",
          "data": {
            "text/plain": [
              "array([-0.20197369,  1.27350373,  0.15684448,  0.0239253 , -0.1457017 ,\n",
              "        0.07050556,  8.03444855, -4.92905774, -6.75134151,  2.67340165,\n",
              "        1.0477452 ])"
            ]
          },
          "metadata": {
            "tags": []
          },
          "execution_count": 60
        }
      ]
    },
    {
      "cell_type": "markdown",
      "metadata": {
        "id": "BWzmxefBk96L",
        "colab_type": "text"
      },
      "source": [
        "#Predict Test1"
      ]
    },
    {
      "cell_type": "code",
      "metadata": {
        "colab_type": "code",
        "id": "Zb052Fc9tOoY",
        "colab": {}
      },
      "source": [
        "ts1=pd.read_csv('cleaningtestdata1.csv')\n",
        "tx=ts1[['PrevAVGCost','PrevAssignedCost','AVGCost','LatestDateCost','A','B','C','D','E','F','G']]\n"
      ],
      "execution_count": 0,
      "outputs": []
    },
    {
      "cell_type": "code",
      "metadata": {
        "id": "v1lVySbsxTOd",
        "colab_type": "code",
        "colab": {}
      },
      "source": [
        "prediction=lr.predict(tx)"
      ],
      "execution_count": 0,
      "outputs": []
    },
    {
      "cell_type": "code",
      "metadata": {
        "id": "UMpTmpg1rYzE",
        "colab_type": "code",
        "colab": {}
      },
      "source": [
        "ts1['GenPrice']=prediction"
      ],
      "execution_count": 0,
      "outputs": []
    },
    {
      "cell_type": "code",
      "metadata": {
        "id": "8dj9E4-9sHgO",
        "colab_type": "code",
        "colab": {}
      },
      "source": [
        "test1=ts1[['SKU','date','GenPrice']]"
      ],
      "execution_count": 0,
      "outputs": []
    },
    {
      "cell_type": "code",
      "metadata": {
        "id": "FhVKM2QltTRQ",
        "colab_type": "code",
        "colab": {
          "base_uri": "https://localhost:8080/",
          "height": 415
        },
        "outputId": "fab962d3-abe9-4659-bfab-39beb07f1846"
      },
      "source": [
        "test1"
      ],
      "execution_count": 65,
      "outputs": [
        {
          "output_type": "execute_result",
          "data": {
            "text/html": [
              "<div>\n",
              "<style scoped>\n",
              "    .dataframe tbody tr th:only-of-type {\n",
              "        vertical-align: middle;\n",
              "    }\n",
              "\n",
              "    .dataframe tbody tr th {\n",
              "        vertical-align: top;\n",
              "    }\n",
              "\n",
              "    .dataframe thead th {\n",
              "        text-align: right;\n",
              "    }\n",
              "</style>\n",
              "<table border=\"1\" class=\"dataframe\">\n",
              "  <thead>\n",
              "    <tr style=\"text-align: right;\">\n",
              "      <th></th>\n",
              "      <th>SKU</th>\n",
              "      <th>date</th>\n",
              "      <th>GenPrice</th>\n",
              "    </tr>\n",
              "  </thead>\n",
              "  <tbody>\n",
              "    <tr>\n",
              "      <th>0</th>\n",
              "      <td>A-A-00001</td>\n",
              "      <td>2020-01-20</td>\n",
              "      <td>45.478556</td>\n",
              "    </tr>\n",
              "    <tr>\n",
              "      <th>1</th>\n",
              "      <td>A-B-00001</td>\n",
              "      <td>2020-01-20</td>\n",
              "      <td>77.374771</td>\n",
              "    </tr>\n",
              "    <tr>\n",
              "      <th>2</th>\n",
              "      <td>A-B-00002</td>\n",
              "      <td>2020-01-20</td>\n",
              "      <td>55.189403</td>\n",
              "    </tr>\n",
              "    <tr>\n",
              "      <th>3</th>\n",
              "      <td>A-C-00001</td>\n",
              "      <td>2020-01-20</td>\n",
              "      <td>109.367886</td>\n",
              "    </tr>\n",
              "    <tr>\n",
              "      <th>4</th>\n",
              "      <td>A-C-00019</td>\n",
              "      <td>2020-01-20</td>\n",
              "      <td>109.367886</td>\n",
              "    </tr>\n",
              "    <tr>\n",
              "      <th>...</th>\n",
              "      <td>...</td>\n",
              "      <td>...</td>\n",
              "      <td>...</td>\n",
              "    </tr>\n",
              "    <tr>\n",
              "      <th>495</th>\n",
              "      <td>A-E-00170</td>\n",
              "      <td>2020-01-20</td>\n",
              "      <td>7.558824</td>\n",
              "    </tr>\n",
              "    <tr>\n",
              "      <th>496</th>\n",
              "      <td>A-E-00171</td>\n",
              "      <td>2020-01-20</td>\n",
              "      <td>7.558824</td>\n",
              "    </tr>\n",
              "    <tr>\n",
              "      <th>497</th>\n",
              "      <td>A-D-00149</td>\n",
              "      <td>2020-01-20</td>\n",
              "      <td>7.558824</td>\n",
              "    </tr>\n",
              "    <tr>\n",
              "      <th>498</th>\n",
              "      <td>A-B-00040</td>\n",
              "      <td>2020-01-20</td>\n",
              "      <td>7.558824</td>\n",
              "    </tr>\n",
              "    <tr>\n",
              "      <th>499</th>\n",
              "      <td>A-I-00090</td>\n",
              "      <td>2020-01-20</td>\n",
              "      <td>7.558824</td>\n",
              "    </tr>\n",
              "  </tbody>\n",
              "</table>\n",
              "<p>500 rows × 3 columns</p>\n",
              "</div>"
            ],
            "text/plain": [
              "           SKU        date    GenPrice\n",
              "0    A-A-00001  2020-01-20   45.478556\n",
              "1    A-B-00001  2020-01-20   77.374771\n",
              "2    A-B-00002  2020-01-20   55.189403\n",
              "3    A-C-00001  2020-01-20  109.367886\n",
              "4    A-C-00019  2020-01-20  109.367886\n",
              "..         ...         ...         ...\n",
              "495  A-E-00170  2020-01-20    7.558824\n",
              "496  A-E-00171  2020-01-20    7.558824\n",
              "497  A-D-00149  2020-01-20    7.558824\n",
              "498  A-B-00040  2020-01-20    7.558824\n",
              "499  A-I-00090  2020-01-20    7.558824\n",
              "\n",
              "[500 rows x 3 columns]"
            ]
          },
          "metadata": {
            "tags": []
          },
          "execution_count": 65
        }
      ]
    },
    {
      "cell_type": "code",
      "metadata": {
        "id": "O4HfjjYcvCfs",
        "colab_type": "code",
        "colab": {}
      },
      "source": [
        "test1.to_csv('testdata1_linear.csv')"
      ],
      "execution_count": 0,
      "outputs": []
    },
    {
      "cell_type": "markdown",
      "metadata": {
        "id": "2w4zjMyOt0DB",
        "colab_type": "text"
      },
      "source": [
        "#Predic test2"
      ]
    },
    {
      "cell_type": "code",
      "metadata": {
        "id": "RfJLsHrHskTh",
        "colab_type": "code",
        "colab": {}
      },
      "source": [
        "ts2=pd.read_csv('cleaningtestdata2.csv')\n",
        "test2=ts2[['PrevAVGCost','PrevAssignedCost','AVGCost','LatestDateCost','A','B','C','D','E','F','G']]"
      ],
      "execution_count": 0,
      "outputs": []
    },
    {
      "cell_type": "code",
      "metadata": {
        "id": "sj3DSMhRvv2V",
        "colab_type": "code",
        "colab": {}
      },
      "source": [
        "predic=lr.predict(test2)"
      ],
      "execution_count": 0,
      "outputs": []
    },
    {
      "cell_type": "code",
      "metadata": {
        "id": "e_2zmxVZv5lT",
        "colab_type": "code",
        "colab": {}
      },
      "source": [
        "ts2['GenPrice']=predic"
      ],
      "execution_count": 0,
      "outputs": []
    },
    {
      "cell_type": "code",
      "metadata": {
        "id": "9FeyLvBGv_bf",
        "colab_type": "code",
        "colab": {}
      },
      "source": [
        "test_2=ts2[['SKU','date','GenPrice']]"
      ],
      "execution_count": 0,
      "outputs": []
    },
    {
      "cell_type": "code",
      "metadata": {
        "id": "G8UA5JZpwH7d",
        "colab_type": "code",
        "colab": {
          "base_uri": "https://localhost:8080/",
          "height": 415
        },
        "outputId": "ca205eba-6b7c-402b-e9d4-a34a85b7aa24"
      },
      "source": [
        "test_2"
      ],
      "execution_count": 73,
      "outputs": [
        {
          "output_type": "execute_result",
          "data": {
            "text/html": [
              "<div>\n",
              "<style scoped>\n",
              "    .dataframe tbody tr th:only-of-type {\n",
              "        vertical-align: middle;\n",
              "    }\n",
              "\n",
              "    .dataframe tbody tr th {\n",
              "        vertical-align: top;\n",
              "    }\n",
              "\n",
              "    .dataframe thead th {\n",
              "        text-align: right;\n",
              "    }\n",
              "</style>\n",
              "<table border=\"1\" class=\"dataframe\">\n",
              "  <thead>\n",
              "    <tr style=\"text-align: right;\">\n",
              "      <th></th>\n",
              "      <th>SKU</th>\n",
              "      <th>date</th>\n",
              "      <th>GenPrice</th>\n",
              "    </tr>\n",
              "  </thead>\n",
              "  <tbody>\n",
              "    <tr>\n",
              "      <th>0</th>\n",
              "      <td>A-A-00001</td>\n",
              "      <td>2020-03-27</td>\n",
              "      <td>39.180713</td>\n",
              "    </tr>\n",
              "    <tr>\n",
              "      <th>1</th>\n",
              "      <td>A-B-00001</td>\n",
              "      <td>2020-03-27</td>\n",
              "      <td>63.799517</td>\n",
              "    </tr>\n",
              "    <tr>\n",
              "      <th>2</th>\n",
              "      <td>A-B-00002</td>\n",
              "      <td>2020-03-27</td>\n",
              "      <td>59.908666</td>\n",
              "    </tr>\n",
              "    <tr>\n",
              "      <th>3</th>\n",
              "      <td>A-C-00001</td>\n",
              "      <td>2020-03-27</td>\n",
              "      <td>116.896616</td>\n",
              "    </tr>\n",
              "    <tr>\n",
              "      <th>4</th>\n",
              "      <td>A-C-00019</td>\n",
              "      <td>2020-03-27</td>\n",
              "      <td>116.896616</td>\n",
              "    </tr>\n",
              "    <tr>\n",
              "      <th>...</th>\n",
              "      <td>...</td>\n",
              "      <td>...</td>\n",
              "      <td>...</td>\n",
              "    </tr>\n",
              "    <tr>\n",
              "      <th>506</th>\n",
              "      <td>A-B-00040</td>\n",
              "      <td>2020-03-27</td>\n",
              "      <td>7.558824</td>\n",
              "    </tr>\n",
              "    <tr>\n",
              "      <th>507</th>\n",
              "      <td>A-I-00090</td>\n",
              "      <td>2020-03-27</td>\n",
              "      <td>7.558824</td>\n",
              "    </tr>\n",
              "    <tr>\n",
              "      <th>508</th>\n",
              "      <td>A-E-00190</td>\n",
              "      <td>2020-03-27</td>\n",
              "      <td>7.558824</td>\n",
              "    </tr>\n",
              "    <tr>\n",
              "      <th>509</th>\n",
              "      <td>A-E-00011</td>\n",
              "      <td>2020-03-27</td>\n",
              "      <td>7.558824</td>\n",
              "    </tr>\n",
              "    <tr>\n",
              "      <th>510</th>\n",
              "      <td>A-K-00029</td>\n",
              "      <td>2020-03-27</td>\n",
              "      <td>7.558824</td>\n",
              "    </tr>\n",
              "  </tbody>\n",
              "</table>\n",
              "<p>511 rows × 3 columns</p>\n",
              "</div>"
            ],
            "text/plain": [
              "           SKU        date    GenPrice\n",
              "0    A-A-00001  2020-03-27   39.180713\n",
              "1    A-B-00001  2020-03-27   63.799517\n",
              "2    A-B-00002  2020-03-27   59.908666\n",
              "3    A-C-00001  2020-03-27  116.896616\n",
              "4    A-C-00019  2020-03-27  116.896616\n",
              "..         ...         ...         ...\n",
              "506  A-B-00040  2020-03-27    7.558824\n",
              "507  A-I-00090  2020-03-27    7.558824\n",
              "508  A-E-00190  2020-03-27    7.558824\n",
              "509  A-E-00011  2020-03-27    7.558824\n",
              "510  A-K-00029  2020-03-27    7.558824\n",
              "\n",
              "[511 rows x 3 columns]"
            ]
          },
          "metadata": {
            "tags": []
          },
          "execution_count": 73
        }
      ]
    },
    {
      "cell_type": "code",
      "metadata": {
        "id": "6Y5sJYCywKUh",
        "colab_type": "code",
        "colab": {}
      },
      "source": [
        "test_2.to_csv('testdata2_linear.csv')"
      ],
      "execution_count": 0,
      "outputs": []
    },
    {
      "cell_type": "code",
      "metadata": {
        "id": "UpslLWNcwbuC",
        "colab_type": "code",
        "colab": {}
      },
      "source": [
        ""
      ],
      "execution_count": 0,
      "outputs": []
    }
  ]
}